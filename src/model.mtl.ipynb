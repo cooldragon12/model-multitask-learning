{
 "cells": [
  {
   "attachments": {},
   "cell_type": "markdown",
   "metadata": {},
   "source": [
    "# MTL in Detection of Emotion, Toxicity Classification"
   ]
  },
  {
   "attachments": {},
   "cell_type": "markdown",
   "metadata": {},
   "source": [
    "### 1. Importing Libraries"
   ]
  },
  {
   "cell_type": "code",
   "execution_count": 1,
   "metadata": {},
   "outputs": [
    {
     "name": "stderr",
     "output_type": "stream",
     "text": [
      "e:\\Mini Projects\\Thesis\\model-multitask-learning\\.venv\\lib\\site-packages\\tqdm\\auto.py:21: TqdmWarning: IProgress not found. Please update jupyter and ipywidgets. See https://ipywidgets.readthedocs.io/en/stable/user_install.html\n",
      "  from .autonotebook import tqdm as notebook_tqdm\n"
     ]
    }
   ],
   "source": [
    "from build.pytorch import preprocessing\n",
    "import pandas as pd\n",
    "import matplotlib.pyplot as plt\n",
    "import torch\n",
    "import torch_directml as td\n",
    "from torch.utils.data import DataLoader\n",
    "from transformers import BertTokenizer\n",
    "%matplotlib inline\n"
   ]
  },
  {
   "cell_type": "code",
   "execution_count": 2,
   "metadata": {},
   "outputs": [],
   "source": [
    "def select_device(device=''):\n",
    "    if device.lower() == 'cuda':\n",
    "        if not torch.cuda.is_available():\n",
    "            print (\"torch.cuda not available\")\n",
    "            return torch.device('cpu')    \n",
    "        else:\n",
    "            return torch.device('cuda:0')\n",
    "    if device.lower() == 'dml':\n",
    "        return td.device(td.default_device())\n",
    "    else:\n",
    "        return torch.device('cpu')"
   ]
  },
  {
   "cell_type": "code",
   "execution_count": 3,
   "metadata": {},
   "outputs": [],
   "source": [
    "device = select_device('dml')"
   ]
  },
  {
   "cell_type": "markdown",
   "metadata": {},
   "source": [
    "#### 1.1 Import Dataset"
   ]
  },
  {
   "cell_type": "code",
   "execution_count": 4,
   "metadata": {},
   "outputs": [],
   "source": [
    "df = pd.read_csv('../dataset/Dataset_ChattyTicket.csv')\n"
   ]
  },
  {
   "cell_type": "code",
   "execution_count": 5,
   "metadata": {},
   "outputs": [
    {
     "name": "stdout",
     "output_type": "stream",
     "text": [
      "username    4\n",
      "chat        0\n",
      "emotion     0\n",
      "toxicity    0\n",
      "dtype: int64\n"
     ]
    }
   ],
   "source": [
    "# check for any null values\n",
    "print(df.isnull().sum())"
   ]
  },
  {
   "cell_type": "code",
   "execution_count": 6,
   "metadata": {},
   "outputs": [
    {
     "name": "stdout",
     "output_type": "stream",
     "text": [
      "<class 'pandas.core.frame.DataFrame'>\n",
      "RangeIndex: 7932 entries, 0 to 7931\n",
      "Data columns (total 4 columns):\n",
      " #   Column    Non-Null Count  Dtype \n",
      "---  ------    --------------  ----- \n",
      " 0   username  7928 non-null   object\n",
      " 1   chat      7932 non-null   object\n",
      " 2   emotion   7932 non-null   object\n",
      " 3   toxicity  7932 non-null   object\n",
      "dtypes: object(4)\n",
      "memory usage: 248.0+ KB\n"
     ]
    }
   ],
   "source": [
    "df.info()"
   ]
  },
  {
   "cell_type": "code",
   "execution_count": 7,
   "metadata": {},
   "outputs": [
    {
     "data": {
      "text/html": [
       "<div>\n",
       "<style scoped>\n",
       "    .dataframe tbody tr th:only-of-type {\n",
       "        vertical-align: middle;\n",
       "    }\n",
       "\n",
       "    .dataframe tbody tr th {\n",
       "        vertical-align: top;\n",
       "    }\n",
       "\n",
       "    .dataframe thead th {\n",
       "        text-align: right;\n",
       "    }\n",
       "</style>\n",
       "<table border=\"1\" class=\"dataframe\">\n",
       "  <thead>\n",
       "    <tr style=\"text-align: right;\">\n",
       "      <th></th>\n",
       "      <th>username</th>\n",
       "      <th>chat</th>\n",
       "      <th>emotion</th>\n",
       "      <th>toxicity</th>\n",
       "    </tr>\n",
       "  </thead>\n",
       "  <tbody>\n",
       "    <tr>\n",
       "      <th>0</th>\n",
       "      <td>Jape</td>\n",
       "      <td>-140</td>\n",
       "      <td>neutral</td>\n",
       "      <td>not toxic</td>\n",
       "    </tr>\n",
       "    <tr>\n",
       "      <th>1</th>\n",
       "      <td>Shizuwu</td>\n",
       "      <td>5</td>\n",
       "      <td>neutral</td>\n",
       "      <td>not toxic</td>\n",
       "    </tr>\n",
       "    <tr>\n",
       "      <th>2</th>\n",
       "      <td>neverland</td>\n",
       "      <td>80</td>\n",
       "      <td>neutral</td>\n",
       "      <td>not toxic</td>\n",
       "    </tr>\n",
       "    <tr>\n",
       "      <th>3</th>\n",
       "      <td>LikMaB#alls</td>\n",
       "      <td>88</td>\n",
       "      <td>neutral</td>\n",
       "      <td>not toxic</td>\n",
       "    </tr>\n",
       "    <tr>\n",
       "      <th>4</th>\n",
       "      <td>Iskiri</td>\n",
       "      <td>120</td>\n",
       "      <td>neutral</td>\n",
       "      <td>not toxic</td>\n",
       "    </tr>\n",
       "  </tbody>\n",
       "</table>\n",
       "</div>"
      ],
      "text/plain": [
       "      username  chat  emotion   toxicity\n",
       "0         Jape  -140  neutral  not toxic\n",
       "1      Shizuwu     5  neutral  not toxic\n",
       "2    neverland    80  neutral  not toxic\n",
       "3  LikMaB#alls    88  neutral  not toxic\n",
       "4       Iskiri   120  neutral  not toxic"
      ]
     },
     "execution_count": 7,
     "metadata": {},
     "output_type": "execute_result"
    }
   ],
   "source": [
    "df.head()"
   ]
  },
  {
   "cell_type": "code",
   "execution_count": 8,
   "metadata": {},
   "outputs": [],
   "source": [
    "df = df.sample(frac=1)"
   ]
  },
  {
   "cell_type": "code",
   "execution_count": 9,
   "metadata": {},
   "outputs": [],
   "source": [
    "df.reset_index(drop=True, inplace=True)"
   ]
  },
  {
   "cell_type": "code",
   "execution_count": 10,
   "metadata": {},
   "outputs": [
    {
     "data": {
      "text/html": [
       "<div>\n",
       "<style scoped>\n",
       "    .dataframe tbody tr th:only-of-type {\n",
       "        vertical-align: middle;\n",
       "    }\n",
       "\n",
       "    .dataframe tbody tr th {\n",
       "        vertical-align: top;\n",
       "    }\n",
       "\n",
       "    .dataframe thead th {\n",
       "        text-align: right;\n",
       "    }\n",
       "</style>\n",
       "<table border=\"1\" class=\"dataframe\">\n",
       "  <thead>\n",
       "    <tr style=\"text-align: right;\">\n",
       "      <th></th>\n",
       "      <th>username</th>\n",
       "      <th>chat</th>\n",
       "      <th>emotion</th>\n",
       "      <th>toxicity</th>\n",
       "    </tr>\n",
       "  </thead>\n",
       "  <tbody>\n",
       "    <tr>\n",
       "      <th>7927</th>\n",
       "      <td>amity#ars</td>\n",
       "      <td>bobo</td>\n",
       "      <td>anger</td>\n",
       "      <td>cyberbullying</td>\n",
       "    </tr>\n",
       "    <tr>\n",
       "      <th>7928</th>\n",
       "      <td>haru#riee</td>\n",
       "      <td>have fun</td>\n",
       "      <td>happy</td>\n",
       "      <td>not toxic</td>\n",
       "    </tr>\n",
       "    <tr>\n",
       "      <th>7929</th>\n",
       "      <td>Road#0020</td>\n",
       "      <td>GG</td>\n",
       "      <td>happy</td>\n",
       "      <td>not toxic</td>\n",
       "    </tr>\n",
       "    <tr>\n",
       "      <th>7930</th>\n",
       "      <td>i miss her #BIA</td>\n",
       "      <td>Ggs</td>\n",
       "      <td>sad</td>\n",
       "      <td>not toxic</td>\n",
       "    </tr>\n",
       "    <tr>\n",
       "      <th>7931</th>\n",
       "      <td>Fry #Bait</td>\n",
       "      <td>pabigat ka</td>\n",
       "      <td>disgust</td>\n",
       "      <td>RNG complaints</td>\n",
       "    </tr>\n",
       "  </tbody>\n",
       "</table>\n",
       "</div>"
      ],
      "text/plain": [
       "             username         chat  emotion        toxicity\n",
       "7927        amity#ars         bobo    anger   cyberbullying\n",
       "7928        haru#riee     have fun    happy       not toxic\n",
       "7929        Road#0020           GG    happy       not toxic\n",
       "7930  i miss her #BIA          Ggs      sad       not toxic\n",
       "7931        Fry #Bait   pabigat ka  disgust  RNG complaints"
      ]
     },
     "execution_count": 10,
     "metadata": {},
     "output_type": "execute_result"
    }
   ],
   "source": [
    "df.tail()"
   ]
  },
  {
   "cell_type": "code",
   "execution_count": 11,
   "metadata": {},
   "outputs": [
    {
     "data": {
      "text/html": [
       "<div>\n",
       "<style scoped>\n",
       "    .dataframe tbody tr th:only-of-type {\n",
       "        vertical-align: middle;\n",
       "    }\n",
       "\n",
       "    .dataframe tbody tr th {\n",
       "        vertical-align: top;\n",
       "    }\n",
       "\n",
       "    .dataframe thead th {\n",
       "        text-align: right;\n",
       "    }\n",
       "</style>\n",
       "<table border=\"1\" class=\"dataframe\">\n",
       "  <thead>\n",
       "    <tr style=\"text-align: right;\">\n",
       "      <th></th>\n",
       "      <th>username</th>\n",
       "      <th>chat</th>\n",
       "      <th>emotion</th>\n",
       "      <th>toxicity</th>\n",
       "    </tr>\n",
       "  </thead>\n",
       "  <tbody>\n",
       "    <tr>\n",
       "      <th>0</th>\n",
       "      <td>0</td>\n",
       "      <td>different languages swear words</td>\n",
       "      <td>anger</td>\n",
       "      <td>Cyberbullying</td>\n",
       "    </tr>\n",
       "    <tr>\n",
       "      <th>1</th>\n",
       "      <td>Skwa #FPS</td>\n",
       "      <td>ggs</td>\n",
       "      <td>happy</td>\n",
       "      <td>not toxic</td>\n",
       "    </tr>\n",
       "    <tr>\n",
       "      <th>2</th>\n",
       "      <td>jidi #ritze</td>\n",
       "      <td>sexism</td>\n",
       "      <td>disgust</td>\n",
       "      <td>sexism</td>\n",
       "    </tr>\n",
       "    <tr>\n",
       "      <th>3</th>\n",
       "      <td>Yanteezy#7155</td>\n",
       "      <td>Mb</td>\n",
       "      <td>sad</td>\n",
       "      <td>not toxic</td>\n",
       "    </tr>\n",
       "    <tr>\n",
       "      <th>4</th>\n",
       "      <td>ten#1975</td>\n",
       "      <td>ns</td>\n",
       "      <td>happy</td>\n",
       "      <td>not toxic</td>\n",
       "    </tr>\n",
       "  </tbody>\n",
       "</table>\n",
       "</div>"
      ],
      "text/plain": [
       "        username                             chat  emotion       toxicity\n",
       "0              0  different languages swear words    anger  Cyberbullying\n",
       "1      Skwa #FPS                              ggs    happy      not toxic\n",
       "2    jidi #ritze                           sexism  disgust         sexism\n",
       "3  Yanteezy#7155                               Mb      sad      not toxic\n",
       "4       ten#1975                               ns    happy      not toxic"
      ]
     },
     "execution_count": 11,
     "metadata": {},
     "output_type": "execute_result"
    }
   ],
   "source": [
    "df.head()"
   ]
  },
  {
   "cell_type": "markdown",
   "metadata": {},
   "source": [
    "#### 1.2 Check all the classes\n",
    "\n",
    "`toxicity`"
   ]
  },
  {
   "cell_type": "code",
   "execution_count": 12,
   "metadata": {},
   "outputs": [
    {
     "data": {
      "text/plain": [
       "toxicity\n",
       "not toxic          4044\n",
       "cyberbullying      1308\n",
       "Cyberbullying       693\n",
       "sarcasm             311\n",
       "RNG complaints      281\n",
       "Blaming others      235\n",
       "Gamesplaining       233\n",
       "sexism              202\n",
       "EBR complaints      144\n",
       "blaming others      122\n",
       "MM complaints       115\n",
       "male preserve        60\n",
       "racism               57\n",
       "Male preserve        31\n",
       "gamesplaining        26\n",
       "Racism               25\n",
       "ageism               17\n",
       "ableism              12\n",
       "Game complaints       7\n",
       "Ableism               6\n",
       "Sarcasm               3\n",
       "Name: count, dtype: int64"
      ]
     },
     "execution_count": 12,
     "metadata": {},
     "output_type": "execute_result"
    }
   ],
   "source": [
    "df['toxicity'].value_counts()"
   ]
  },
  {
   "cell_type": "code",
   "execution_count": 13,
   "metadata": {},
   "outputs": [],
   "source": [
    "df['toxicity']= df['toxicity'].apply(lambda x: x.lower())"
   ]
  },
  {
   "cell_type": "code",
   "execution_count": 14,
   "metadata": {},
   "outputs": [
    {
     "data": {
      "image/png": "[encoded data removed]",
      "text/plain": [
       "<Figure size 1000x500 with 1 Axes>"
      ]
     },
     "metadata": {},
     "output_type": "display_data"
    }
   ],
   "source": [
    "# bar plot \n",
    "plt.figure(figsize=(10,5))\n",
    "df['toxicity'].value_counts().plot(kind='bar')\n",
    "plt.ylabel('Number of comments')\n",
    "plt.xlabel('Toxicity')\n",
    "plt.title('Toxicity Distribution')\n",
    "plt.show()"
   ]
  },
  {
   "cell_type": "markdown",
   "metadata": {},
   "source": [
    "`emotion / sentiment`"
   ]
  },
  {
   "cell_type": "code",
   "execution_count": 15,
   "metadata": {},
   "outputs": [
    {
     "data": {
      "text/plain": [
       "emotion\n",
       "happy       2183\n",
       "anger       2015\n",
       "disgust     1409\n",
       "sad         1081\n",
       "neutral      991\n",
       "surprise     253\n",
       "Name: count, dtype: int64"
      ]
     },
     "execution_count": 15,
     "metadata": {},
     "output_type": "execute_result"
    }
   ],
   "source": [
    "df['emotion'].value_counts()"
   ]
  },
  {
   "cell_type": "markdown",
   "metadata": {},
   "source": [
    "Test dataset from the survey and real chat"
   ]
  },
  {
   "cell_type": "code",
   "execution_count": 16,
   "metadata": {},
   "outputs": [],
   "source": [
    "df2 = pd.read_csv('../dataset/revised_Dataset_ChattyTicket_600data.csv')"
   ]
  },
  {
   "cell_type": "code",
   "execution_count": 17,
   "metadata": {},
   "outputs": [
    {
     "data": {
      "text/html": [
       "<div>\n",
       "<style scoped>\n",
       "    .dataframe tbody tr th:only-of-type {\n",
       "        vertical-align: middle;\n",
       "    }\n",
       "\n",
       "    .dataframe tbody tr th {\n",
       "        vertical-align: top;\n",
       "    }\n",
       "\n",
       "    .dataframe thead th {\n",
       "        text-align: right;\n",
       "    }\n",
       "</style>\n",
       "<table border=\"1\" class=\"dataframe\">\n",
       "  <thead>\n",
       "    <tr style=\"text-align: right;\">\n",
       "      <th></th>\n",
       "      <th>username</th>\n",
       "      <th>chat</th>\n",
       "      <th>sentiment</th>\n",
       "      <th>toxicity</th>\n",
       "    </tr>\n",
       "  </thead>\n",
       "  <tbody>\n",
       "    <tr>\n",
       "      <th>0</th>\n",
       "      <td>GT BLACKSHEEP XIE</td>\n",
       "      <td>mb</td>\n",
       "      <td>sad</td>\n",
       "      <td>not toxic</td>\n",
       "    </tr>\n",
       "    <tr>\n",
       "      <th>1</th>\n",
       "      <td>GT BLACKSHEEP XIE</td>\n",
       "      <td>mb kj</td>\n",
       "      <td>sad</td>\n",
       "      <td>not toxic</td>\n",
       "    </tr>\n",
       "    <tr>\n",
       "      <th>2</th>\n",
       "      <td>GT BLACKSHEEP XIE</td>\n",
       "      <td>wp</td>\n",
       "      <td>happy</td>\n",
       "      <td>not toxic</td>\n",
       "    </tr>\n",
       "    <tr>\n",
       "      <th>3</th>\n",
       "      <td>GT BLACKSHEEP XIE</td>\n",
       "      <td>hahahaahaa</td>\n",
       "      <td>happy</td>\n",
       "      <td>not toxic</td>\n",
       "    </tr>\n",
       "    <tr>\n",
       "      <th>4</th>\n",
       "      <td>GT BLACKSHEEP XIE</td>\n",
       "      <td>noice HAHAHHAHAHA</td>\n",
       "      <td>happy</td>\n",
       "      <td>not toxic</td>\n",
       "    </tr>\n",
       "  </tbody>\n",
       "</table>\n",
       "</div>"
      ],
      "text/plain": [
       "            username               chat sentiment   toxicity\n",
       "0  GT BLACKSHEEP XIE                 mb       sad  not toxic\n",
       "1  GT BLACKSHEEP XIE              mb kj       sad  not toxic\n",
       "2  GT BLACKSHEEP XIE                 wp     happy  not toxic\n",
       "3  GT BLACKSHEEP XIE         hahahaahaa     happy  not toxic\n",
       "4  GT BLACKSHEEP XIE  noice HAHAHHAHAHA     happy  not toxic"
      ]
     },
     "execution_count": 17,
     "metadata": {},
     "output_type": "execute_result"
    }
   ],
   "source": [
    "df2.head()"
   ]
  },
  {
   "cell_type": "code",
   "execution_count": 18,
   "metadata": {},
   "outputs": [],
   "source": [
    "df2['toxicity']= df2['toxicity'].apply(lambda x: x.lower())"
   ]
  },
  {
   "cell_type": "code",
   "execution_count": 19,
   "metadata": {},
   "outputs": [
    {
     "data": {
      "text/plain": [
       "sentiment\n",
       "anger       192\n",
       "happy       184\n",
       "disgust     134\n",
       "neutral     120\n",
       "sad         108\n",
       "surprise     21\n",
       "Name: count, dtype: int64"
      ]
     },
     "execution_count": 19,
     "metadata": {},
     "output_type": "execute_result"
    }
   ],
   "source": [
    "df2['sentiment'].value_counts()"
   ]
  },
  {
   "cell_type": "code",
   "execution_count": 20,
   "metadata": {},
   "outputs": [
    {
     "data": {
      "text/plain": [
       "sentiment\n",
       "anger       192\n",
       "happy       184\n",
       "disgust     134\n",
       "neutral     120\n",
       "sad         108\n",
       "surprise     21\n",
       "Name: count, dtype: int64"
      ]
     },
     "execution_count": 20,
     "metadata": {},
     "output_type": "execute_result"
    }
   ],
   "source": [
    "df2['sentiment'].value_counts()"
   ]
  },
  {
   "cell_type": "code",
   "execution_count": 21,
   "metadata": {},
   "outputs": [
    {
     "data": {
      "text/plain": [
       "toxicity\n",
       "not toxic          406\n",
       "cyberbullying      143\n",
       "sarcasm             91\n",
       "ebr complaints      31\n",
       "rng complaints      26\n",
       "blaming others      22\n",
       "sexism              16\n",
       "male preserve        7\n",
       "game complaints      5\n",
       "ableism              5\n",
       "gamesplaining        2\n",
       "mm complaints        2\n",
       "racism               2\n",
       "ageism               1\n",
       "Name: count, dtype: int64"
      ]
     },
     "execution_count": 21,
     "metadata": {},
     "output_type": "execute_result"
    }
   ],
   "source": [
    "df2['toxicity'].value_counts()"
   ]
  },
  {
   "cell_type": "code",
   "execution_count": 22,
   "metadata": {},
   "outputs": [
    {
     "data": {
      "text/html": [
       "<div>\n",
       "<style scoped>\n",
       "    .dataframe tbody tr th:only-of-type {\n",
       "        vertical-align: middle;\n",
       "    }\n",
       "\n",
       "    .dataframe tbody tr th {\n",
       "        vertical-align: top;\n",
       "    }\n",
       "\n",
       "    .dataframe thead th {\n",
       "        text-align: right;\n",
       "    }\n",
       "</style>\n",
       "<table border=\"1\" class=\"dataframe\">\n",
       "  <thead>\n",
       "    <tr style=\"text-align: right;\">\n",
       "      <th></th>\n",
       "      <th>username</th>\n",
       "      <th>chat</th>\n",
       "      <th>sentiment</th>\n",
       "      <th>toxicity</th>\n",
       "    </tr>\n",
       "  </thead>\n",
       "  <tbody>\n",
       "  </tbody>\n",
       "</table>\n",
       "</div>"
      ],
      "text/plain": [
       "Empty DataFrame\n",
       "Columns: [username, chat, sentiment, toxicity]\n",
       "Index: []"
      ]
     },
     "execution_count": 22,
     "metadata": {},
     "output_type": "execute_result"
    }
   ],
   "source": [
    "df2[df2['toxicity'] == 'surprise']"
   ]
  },
  {
   "cell_type": "code",
   "execution_count": 23,
   "metadata": {},
   "outputs": [
    {
     "data": {
      "text/plain": [
       "toxicity\n",
       "not toxic          406\n",
       "cyberbullying      143\n",
       "sarcasm             91\n",
       "ebr complaints      31\n",
       "rng complaints      26\n",
       "blaming others      22\n",
       "sexism              16\n",
       "male preserve        7\n",
       "game complaints      5\n",
       "ableism              5\n",
       "gamesplaining        2\n",
       "mm complaints        2\n",
       "racism               2\n",
       "ageism               1\n",
       "Name: count, dtype: int64"
      ]
     },
     "execution_count": 23,
     "metadata": {},
     "output_type": "execute_result"
    }
   ],
   "source": [
    "df2['toxicity'].value_counts()"
   ]
  },
  {
   "cell_type": "code",
   "execution_count": 24,
   "metadata": {},
   "outputs": [
    {
     "name": "stdout",
     "output_type": "stream",
     "text": [
      "<class 'pandas.core.frame.DataFrame'>\n",
      "RangeIndex: 759 entries, 0 to 758\n",
      "Data columns (total 4 columns):\n",
      " #   Column     Non-Null Count  Dtype \n",
      "---  ------     --------------  ----- \n",
      " 0   username   759 non-null    object\n",
      " 1   chat       759 non-null    object\n",
      " 2   sentiment  759 non-null    object\n",
      " 3   toxicity   759 non-null    object\n",
      "dtypes: object(4)\n",
      "memory usage: 23.8+ KB\n"
     ]
    }
   ],
   "source": [
    "df2.info()"
   ]
  },
  {
   "cell_type": "code",
   "execution_count": 25,
   "metadata": {},
   "outputs": [],
   "source": [
    "df2.rename(columns={'sentiment': 'emotion'}, inplace=True)"
   ]
  },
  {
   "cell_type": "code",
   "execution_count": 26,
   "metadata": {},
   "outputs": [
    {
     "data": {
      "text/plain": [
       "emotion\n",
       "anger       192\n",
       "happy       184\n",
       "disgust     134\n",
       "neutral     120\n",
       "sad         108\n",
       "surprise     21\n",
       "Name: count, dtype: int64"
      ]
     },
     "execution_count": 26,
     "metadata": {},
     "output_type": "execute_result"
    }
   ],
   "source": [
    "df2['emotion'].value_counts()"
   ]
  },
  {
   "cell_type": "code",
   "execution_count": 27,
   "metadata": {},
   "outputs": [
    {
     "name": "stdout",
     "output_type": "stream",
     "text": [
      "Total Test set 1631.52\n"
     ]
    }
   ],
   "source": [
    "# compute the test set\n",
    "print(\"Total Test set\",(7932*0.11)+759)"
   ]
  },
  {
   "cell_type": "markdown",
   "metadata": {},
   "source": [
    "Getting the portion data from the big dataset"
   ]
  },
  {
   "cell_type": "code",
   "execution_count": 28,
   "metadata": {},
   "outputs": [],
   "source": [
    "df = df.sample(frac=1)"
   ]
  },
  {
   "cell_type": "code",
   "execution_count": 29,
   "metadata": {},
   "outputs": [],
   "source": [
    "from sklearn.model_selection import train_test_split\n",
    "train, test =  train_test_split(df, test_size=0.11)"
   ]
  },
  {
   "cell_type": "code",
   "execution_count": 30,
   "metadata": {},
   "outputs": [],
   "source": [
    "train.to_pickle('../dataset/preprocessed_df_train.pkl')"
   ]
  },
  {
   "cell_type": "markdown",
   "metadata": {},
   "source": [
    "Combining the two datasets"
   ]
  },
  {
   "cell_type": "code",
   "execution_count": 31,
   "metadata": {},
   "outputs": [],
   "source": [
    "test_ = pd.concat([df2, test])"
   ]
  },
  {
   "cell_type": "code",
   "execution_count": 32,
   "metadata": {},
   "outputs": [
    {
     "data": {
      "text/plain": [
       "emotion\n",
       "anger       192\n",
       "happy       184\n",
       "disgust     134\n",
       "neutral     120\n",
       "sad         108\n",
       "surprise     21\n",
       "Name: count, dtype: int64"
      ]
     },
     "execution_count": 32,
     "metadata": {},
     "output_type": "execute_result"
    }
   ],
   "source": [
    "df2['emotion'].value_counts()"
   ]
  },
  {
   "cell_type": "code",
   "execution_count": 33,
   "metadata": {},
   "outputs": [
    {
     "data": {
      "text/plain": [
       "toxicity\n",
       "not toxic          3591\n",
       "cyberbullying      1784\n",
       "blaming others      318\n",
       "sarcasm             287\n",
       "rng complaints      251\n",
       "gamesplaining       224\n",
       "sexism              179\n",
       "ebr complaints      132\n",
       "mm complaints       102\n",
       "male preserve        80\n",
       "racism               71\n",
       "ageism               17\n",
       "ableism              16\n",
       "game complaints       7\n",
       "Name: count, dtype: int64"
      ]
     },
     "execution_count": 33,
     "metadata": {},
     "output_type": "execute_result"
    }
   ],
   "source": [
    "train['toxicity'].value_counts()"
   ]
  },
  {
   "cell_type": "code",
   "execution_count": 34,
   "metadata": {},
   "outputs": [
    {
     "name": "stdout",
     "output_type": "stream",
     "text": [
      "username    0\n",
      "chat        0\n",
      "emotion     0\n",
      "toxicity    0\n",
      "dtype: int64\n"
     ]
    }
   ],
   "source": [
    "# check for any null values\n",
    "print(test_.isnull().sum())"
   ]
  },
  {
   "cell_type": "code",
   "execution_count": 35,
   "metadata": {},
   "outputs": [],
   "source": [
    "# export train set\n",
    "test_.to_pickle('../dataset/preprocessed_df_test.pkl')"
   ]
  },
  {
   "cell_type": "code",
   "execution_count": 36,
   "metadata": {},
   "outputs": [],
   "source": [
    "combined_df = pd.concat([train,test_], ignore_index=True)"
   ]
  },
  {
   "cell_type": "code",
   "execution_count": 37,
   "metadata": {},
   "outputs": [],
   "source": [
    "combined_df.to_pickle('../dataset/preprocessed_df_combined.pkl')"
   ]
  },
  {
   "cell_type": "code",
   "execution_count": 38,
   "metadata": {},
   "outputs": [
    {
     "data": {
      "text/plain": [
       "toxicity\n",
       "not toxic          4450\n",
       "cyberbullying      2144\n",
       "sarcasm             405\n",
       "blaming others      379\n",
       "rng complaints      307\n",
       "gamesplaining       261\n",
       "sexism              218\n",
       "ebr complaints      175\n",
       "mm complaints       117\n",
       "male preserve        98\n",
       "racism               84\n",
       "ableism              23\n",
       "ageism               18\n",
       "game complaints      12\n",
       "Name: count, dtype: int64"
      ]
     },
     "execution_count": 38,
     "metadata": {},
     "output_type": "execute_result"
    }
   ],
   "source": [
    "combined_df['toxicity'].value_counts()"
   ]
  },
  {
   "cell_type": "code",
   "execution_count": 47,
   "metadata": {},
   "outputs": [
    {
     "data": {
      "text/html": [
       "<div>\n",
       "<style scoped>\n",
       "    .dataframe tbody tr th:only-of-type {\n",
       "        vertical-align: middle;\n",
       "    }\n",
       "\n",
       "    .dataframe tbody tr th {\n",
       "        vertical-align: top;\n",
       "    }\n",
       "\n",
       "    .dataframe thead th {\n",
       "        text-align: right;\n",
       "    }\n",
       "</style>\n",
       "<table border=\"1\" class=\"dataframe\">\n",
       "  <thead>\n",
       "    <tr style=\"text-align: right;\">\n",
       "      <th></th>\n",
       "      <th>username</th>\n",
       "      <th>chat</th>\n",
       "      <th>emotion</th>\n",
       "      <th>toxicity</th>\n",
       "    </tr>\n",
       "  </thead>\n",
       "  <tbody>\n",
       "    <tr>\n",
       "      <th>0</th>\n",
       "      <td>neverland</td>\n",
       "      <td>nc</td>\n",
       "      <td>neutral</td>\n",
       "      <td>not toxic</td>\n",
       "    </tr>\n",
       "    <tr>\n",
       "      <th>1</th>\n",
       "      <td>Hyacinth#6661</td>\n",
       "      <td>'bobo ka (agent name)' 'babae pala kaya pala b...</td>\n",
       "      <td>anger</td>\n",
       "      <td>blaming others</td>\n",
       "    </tr>\n",
       "    <tr>\n",
       "      <th>2</th>\n",
       "      <td>Seiji#B0nk</td>\n",
       "      <td>tanginamo wag kana maglaro matulog ka na</td>\n",
       "      <td>disgust</td>\n",
       "      <td>male preserve</td>\n",
       "    </tr>\n",
       "    <tr>\n",
       "      <th>3</th>\n",
       "      <td>Liyan #AX1A</td>\n",
       "      <td>Chingchong</td>\n",
       "      <td>anger</td>\n",
       "      <td>racism</td>\n",
       "    </tr>\n",
       "    <tr>\n",
       "      <th>4</th>\n",
       "      <td>G2V Yadidss #0413</td>\n",
       "      <td>tanginamo ang bobo mo</td>\n",
       "      <td>disgust</td>\n",
       "      <td>cyberbullying</td>\n",
       "    </tr>\n",
       "    <tr>\n",
       "      <th>...</th>\n",
       "      <td>...</td>\n",
       "      <td>...</td>\n",
       "      <td>...</td>\n",
       "      <td>...</td>\n",
       "    </tr>\n",
       "    <tr>\n",
       "      <th>8686</th>\n",
       "      <td>TS Monsterific #6969</td>\n",
       "      <td>Why are you palying this game if your this bad</td>\n",
       "      <td>disgust</td>\n",
       "      <td>gamesplaining</td>\n",
       "    </tr>\n",
       "    <tr>\n",
       "      <th>8687</th>\n",
       "      <td>Abystigma#TRUTH</td>\n",
       "      <td>bobo</td>\n",
       "      <td>anger</td>\n",
       "      <td>cyberbullying</td>\n",
       "    </tr>\n",
       "    <tr>\n",
       "      <th>8688</th>\n",
       "      <td>AXR lampniibarra #RZCT</td>\n",
       "      <td>Tatanga niyo</td>\n",
       "      <td>anger</td>\n",
       "      <td>ebr complaints</td>\n",
       "    </tr>\n",
       "    <tr>\n",
       "      <th>8689</th>\n",
       "      <td>edwrd #oms</td>\n",
       "      <td>trashtalking</td>\n",
       "      <td>anger</td>\n",
       "      <td>cyberbullying</td>\n",
       "    </tr>\n",
       "    <tr>\n",
       "      <th>8690</th>\n",
       "      <td>TBE Whack#cutie</td>\n",
       "      <td>ang tanga mo</td>\n",
       "      <td>anger</td>\n",
       "      <td>blaming others</td>\n",
       "    </tr>\n",
       "  </tbody>\n",
       "</table>\n",
       "<p>8691 rows × 4 columns</p>\n",
       "</div>"
      ],
      "text/plain": [
       "                    username  \\\n",
       "0                  neverland   \n",
       "1              Hyacinth#6661   \n",
       "2                 Seiji#B0nk   \n",
       "3                Liyan #AX1A   \n",
       "4          G2V Yadidss #0413   \n",
       "...                      ...   \n",
       "8686    TS Monsterific #6969   \n",
       "8687         Abystigma#TRUTH   \n",
       "8688  AXR lampniibarra #RZCT   \n",
       "8689              edwrd #oms   \n",
       "8690         TBE Whack#cutie   \n",
       "\n",
       "                                                   chat  emotion  \\\n",
       "0                                                    nc  neutral   \n",
       "1     'bobo ka (agent name)' 'babae pala kaya pala b...    anger   \n",
       "2              tanginamo wag kana maglaro matulog ka na  disgust   \n",
       "3                                            Chingchong    anger   \n",
       "4                                 tanginamo ang bobo mo  disgust   \n",
       "...                                                 ...      ...   \n",
       "8686     Why are you palying this game if your this bad  disgust   \n",
       "8687                                               bobo    anger   \n",
       "8688                                       Tatanga niyo    anger   \n",
       "8689                                       trashtalking    anger   \n",
       "8690                                       ang tanga mo    anger   \n",
       "\n",
       "            toxicity  \n",
       "0          not toxic  \n",
       "1     blaming others  \n",
       "2      male preserve  \n",
       "3             racism  \n",
       "4      cyberbullying  \n",
       "...              ...  \n",
       "8686   gamesplaining  \n",
       "8687   cyberbullying  \n",
       "8688  ebr complaints  \n",
       "8689   cyberbullying  \n",
       "8690  blaming others  \n",
       "\n",
       "[8691 rows x 4 columns]"
      ]
     },
     "execution_count": 47,
     "metadata": {},
     "output_type": "execute_result"
    }
   ],
   "source": [
    "combined_df"
   ]
  },
  {
   "cell_type": "code",
   "execution_count": 40,
   "metadata": {},
   "outputs": [
    {
     "data": {
      "text/html": [
       "<div>\n",
       "<style scoped>\n",
       "    .dataframe tbody tr th:only-of-type {\n",
       "        vertical-align: middle;\n",
       "    }\n",
       "\n",
       "    .dataframe tbody tr th {\n",
       "        vertical-align: top;\n",
       "    }\n",
       "\n",
       "    .dataframe thead th {\n",
       "        text-align: right;\n",
       "    }\n",
       "</style>\n",
       "<table border=\"1\" class=\"dataframe\">\n",
       "  <thead>\n",
       "    <tr style=\"text-align: right;\">\n",
       "      <th></th>\n",
       "      <th>username</th>\n",
       "      <th>chat</th>\n",
       "      <th>emotion</th>\n",
       "      <th>toxicity</th>\n",
       "    </tr>\n",
       "  </thead>\n",
       "  <tbody>\n",
       "    <tr>\n",
       "      <th>2717</th>\n",
       "      <td>neverland</td>\n",
       "      <td>nc</td>\n",
       "      <td>neutral</td>\n",
       "      <td>not toxic</td>\n",
       "    </tr>\n",
       "    <tr>\n",
       "      <th>6283</th>\n",
       "      <td>Hyacinth#6661</td>\n",
       "      <td>'bobo ka (agent name)' 'babae pala kaya pala b...</td>\n",
       "      <td>anger</td>\n",
       "      <td>blaming others</td>\n",
       "    </tr>\n",
       "    <tr>\n",
       "      <th>1331</th>\n",
       "      <td>Seiji#B0nk</td>\n",
       "      <td>tanginamo wag kana maglaro matulog ka na</td>\n",
       "      <td>disgust</td>\n",
       "      <td>male preserve</td>\n",
       "    </tr>\n",
       "    <tr>\n",
       "      <th>4036</th>\n",
       "      <td>Liyan #AX1A</td>\n",
       "      <td>Chingchong</td>\n",
       "      <td>anger</td>\n",
       "      <td>racism</td>\n",
       "    </tr>\n",
       "    <tr>\n",
       "      <th>970</th>\n",
       "      <td>G2V Yadidss #0413</td>\n",
       "      <td>tanginamo ang bobo mo</td>\n",
       "      <td>disgust</td>\n",
       "      <td>cyberbullying</td>\n",
       "    </tr>\n",
       "    <tr>\n",
       "      <th>...</th>\n",
       "      <td>...</td>\n",
       "      <td>...</td>\n",
       "      <td>...</td>\n",
       "      <td>...</td>\n",
       "    </tr>\n",
       "    <tr>\n",
       "      <th>3538</th>\n",
       "      <td>PRKN VINCE #Queen</td>\n",
       "      <td>heal</td>\n",
       "      <td>neutral</td>\n",
       "      <td>not toxic</td>\n",
       "    </tr>\n",
       "    <tr>\n",
       "      <th>6944</th>\n",
       "      <td>b00tyhub #666</td>\n",
       "      <td>just fcking plant the spike and many more</td>\n",
       "      <td>anger</td>\n",
       "      <td>gamesplaining</td>\n",
       "    </tr>\n",
       "    <tr>\n",
       "      <th>643</th>\n",
       "      <td>Jayx</td>\n",
       "      <td>nice g!! ^^ twitch.tv/janniechandesu</td>\n",
       "      <td>happy</td>\n",
       "      <td>not toxic</td>\n",
       "    </tr>\n",
       "    <tr>\n",
       "      <th>2072</th>\n",
       "      <td>HS Akane不 #HonoS</td>\n",
       "      <td>nubs</td>\n",
       "      <td>anger</td>\n",
       "      <td>cyberbullying</td>\n",
       "    </tr>\n",
       "    <tr>\n",
       "      <th>4513</th>\n",
       "      <td>Maeve#whiff</td>\n",
       "      <td>you did well</td>\n",
       "      <td>happy</td>\n",
       "      <td>not toxic</td>\n",
       "    </tr>\n",
       "  </tbody>\n",
       "</table>\n",
       "<p>7059 rows × 4 columns</p>\n",
       "</div>"
      ],
      "text/plain": [
       "               username                                               chat  \\\n",
       "2717          neverland                                                 nc   \n",
       "6283      Hyacinth#6661  'bobo ka (agent name)' 'babae pala kaya pala b...   \n",
       "1331         Seiji#B0nk           tanginamo wag kana maglaro matulog ka na   \n",
       "4036        Liyan #AX1A                                         Chingchong   \n",
       "970   G2V Yadidss #0413                              tanginamo ang bobo mo   \n",
       "...                 ...                                                ...   \n",
       "3538  PRKN VINCE #Queen                                               heal   \n",
       "6944      b00tyhub #666          just fcking plant the spike and many more   \n",
       "643                Jayx               nice g!! ^^ twitch.tv/janniechandesu   \n",
       "2072   HS Akane不 #HonoS                                               nubs   \n",
       "4513        Maeve#whiff                                       you did well   \n",
       "\n",
       "      emotion        toxicity  \n",
       "2717  neutral       not toxic  \n",
       "6283    anger  blaming others  \n",
       "1331  disgust   male preserve  \n",
       "4036    anger          racism  \n",
       "970   disgust   cyberbullying  \n",
       "...       ...             ...  \n",
       "3538  neutral       not toxic  \n",
       "6944    anger   gamesplaining  \n",
       "643     happy       not toxic  \n",
       "2072    anger   cyberbullying  \n",
       "4513    happy       not toxic  \n",
       "\n",
       "[7059 rows x 4 columns]"
      ]
     },
     "execution_count": 40,
     "metadata": {},
     "output_type": "execute_result"
    }
   ],
   "source": [
    "train"
   ]
  },
  {
   "cell_type": "code",
   "execution_count": 41,
   "metadata": {},
   "outputs": [
    {
     "data": {
      "text/plain": [
       "emotion\n",
       "anger       433\n",
       "happy       420\n",
       "disgust     282\n",
       "sad         239\n",
       "neutral     214\n",
       "surprise     44\n",
       "Name: count, dtype: int64"
      ]
     },
     "execution_count": 41,
     "metadata": {},
     "output_type": "execute_result"
    }
   ],
   "source": [
    "test_['emotion'].value_counts()"
   ]
  },
  {
   "cell_type": "code",
   "execution_count": 42,
   "metadata": {},
   "outputs": [
    {
     "data": {
      "text/plain": [
       "emotion\n",
       "happy       2367\n",
       "anger       2207\n",
       "disgust     1543\n",
       "sad         1189\n",
       "neutral     1111\n",
       "surprise     274\n",
       "Name: count, dtype: int64"
      ]
     },
     "execution_count": 42,
     "metadata": {},
     "output_type": "execute_result"
    }
   ],
   "source": [
    "combined_df['emotion'].value_counts()"
   ]
  },
  {
   "cell_type": "code",
   "execution_count": 43,
   "metadata": {},
   "outputs": [
    {
     "data": {
      "text/plain": [
       "toxicity\n",
       "not toxic          4450\n",
       "cyberbullying      2144\n",
       "sarcasm             405\n",
       "blaming others      379\n",
       "rng complaints      307\n",
       "gamesplaining       261\n",
       "sexism              218\n",
       "ebr complaints      175\n",
       "mm complaints       117\n",
       "male preserve        98\n",
       "racism               84\n",
       "ableism              23\n",
       "ageism               18\n",
       "game complaints      12\n",
       "Name: count, dtype: int64"
      ]
     },
     "execution_count": 43,
     "metadata": {},
     "output_type": "execute_result"
    }
   ],
   "source": [
    "combined_df['toxicity'].value_counts()"
   ]
  },
  {
   "cell_type": "code",
   "execution_count": 45,
   "metadata": {},
   "outputs": [
    {
     "data": {
      "text/plain": [
       "[array(['ableism', 'ageism', 'blaming others', 'cyberbullying',\n",
       "        'ebr complaints', 'game complaints', 'gamesplaining',\n",
       "        'male preserve', 'mm complaints', 'not toxic', 'racism',\n",
       "        'rng complaints', 'sarcasm', 'sexism'], dtype=object)]"
      ]
     },
     "execution_count": 45,
     "metadata": {},
     "output_type": "execute_result"
    }
   ],
   "source": [
    "from sklearn.preprocessing import OneHotEncoder\n",
    "encoder_emotion = OneHotEncoder(sparse_output=False)\n",
    "encoder_toxicity = OneHotEncoder(sparse_output=False)\n",
    "\n",
    "y_toxicity_combined = encoder_toxicity.fit_transform(combined_df[['toxicity']])\n",
    "y_emotion_combined = encoder_emotion.fit_transform(combined_df[['emotion']])\n",
    "\n"
   ]
  },
  {
   "cell_type": "code",
   "execution_count": 48,
   "metadata": {},
   "outputs": [
    {
     "data": {
      "text/html": [
       "<div>\n",
       "<style scoped>\n",
       "    .dataframe tbody tr th:only-of-type {\n",
       "        vertical-align: middle;\n",
       "    }\n",
       "\n",
       "    .dataframe tbody tr th {\n",
       "        vertical-align: top;\n",
       "    }\n",
       "\n",
       "    .dataframe thead th {\n",
       "        text-align: right;\n",
       "    }\n",
       "</style>\n",
       "<table border=\"1\" class=\"dataframe\">\n",
       "  <thead>\n",
       "    <tr style=\"text-align: right;\">\n",
       "      <th></th>\n",
       "      <th>username</th>\n",
       "      <th>chat</th>\n",
       "      <th>emotion</th>\n",
       "      <th>toxicity</th>\n",
       "    </tr>\n",
       "  </thead>\n",
       "  <tbody>\n",
       "    <tr>\n",
       "      <th>0</th>\n",
       "      <td>neverland</td>\n",
       "      <td>nc</td>\n",
       "      <td>neutral</td>\n",
       "      <td>not toxic</td>\n",
       "    </tr>\n",
       "    <tr>\n",
       "      <th>1</th>\n",
       "      <td>Hyacinth#6661</td>\n",
       "      <td>'bobo ka (agent name)' 'babae pala kaya pala b...</td>\n",
       "      <td>anger</td>\n",
       "      <td>blaming others</td>\n",
       "    </tr>\n",
       "    <tr>\n",
       "      <th>2</th>\n",
       "      <td>Seiji#B0nk</td>\n",
       "      <td>tanginamo wag kana maglaro matulog ka na</td>\n",
       "      <td>disgust</td>\n",
       "      <td>male preserve</td>\n",
       "    </tr>\n",
       "    <tr>\n",
       "      <th>3</th>\n",
       "      <td>Liyan #AX1A</td>\n",
       "      <td>Chingchong</td>\n",
       "      <td>anger</td>\n",
       "      <td>racism</td>\n",
       "    </tr>\n",
       "    <tr>\n",
       "      <th>4</th>\n",
       "      <td>G2V Yadidss #0413</td>\n",
       "      <td>tanginamo ang bobo mo</td>\n",
       "      <td>disgust</td>\n",
       "      <td>cyberbullying</td>\n",
       "    </tr>\n",
       "    <tr>\n",
       "      <th>...</th>\n",
       "      <td>...</td>\n",
       "      <td>...</td>\n",
       "      <td>...</td>\n",
       "      <td>...</td>\n",
       "    </tr>\n",
       "    <tr>\n",
       "      <th>8686</th>\n",
       "      <td>TS Monsterific #6969</td>\n",
       "      <td>Why are you palying this game if your this bad</td>\n",
       "      <td>disgust</td>\n",
       "      <td>gamesplaining</td>\n",
       "    </tr>\n",
       "    <tr>\n",
       "      <th>8687</th>\n",
       "      <td>Abystigma#TRUTH</td>\n",
       "      <td>bobo</td>\n",
       "      <td>anger</td>\n",
       "      <td>cyberbullying</td>\n",
       "    </tr>\n",
       "    <tr>\n",
       "      <th>8688</th>\n",
       "      <td>AXR lampniibarra #RZCT</td>\n",
       "      <td>Tatanga niyo</td>\n",
       "      <td>anger</td>\n",
       "      <td>ebr complaints</td>\n",
       "    </tr>\n",
       "    <tr>\n",
       "      <th>8689</th>\n",
       "      <td>edwrd #oms</td>\n",
       "      <td>trashtalking</td>\n",
       "      <td>anger</td>\n",
       "      <td>cyberbullying</td>\n",
       "    </tr>\n",
       "    <tr>\n",
       "      <th>8690</th>\n",
       "      <td>TBE Whack#cutie</td>\n",
       "      <td>ang tanga mo</td>\n",
       "      <td>anger</td>\n",
       "      <td>blaming others</td>\n",
       "    </tr>\n",
       "  </tbody>\n",
       "</table>\n",
       "<p>8691 rows × 4 columns</p>\n",
       "</div>"
      ],
      "text/plain": [
       "                    username  \\\n",
       "0                  neverland   \n",
       "1              Hyacinth#6661   \n",
       "2                 Seiji#B0nk   \n",
       "3                Liyan #AX1A   \n",
       "4          G2V Yadidss #0413   \n",
       "...                      ...   \n",
       "8686    TS Monsterific #6969   \n",
       "8687         Abystigma#TRUTH   \n",
       "8688  AXR lampniibarra #RZCT   \n",
       "8689              edwrd #oms   \n",
       "8690         TBE Whack#cutie   \n",
       "\n",
       "                                                   chat  emotion  \\\n",
       "0                                                    nc  neutral   \n",
       "1     'bobo ka (agent name)' 'babae pala kaya pala b...    anger   \n",
       "2              tanginamo wag kana maglaro matulog ka na  disgust   \n",
       "3                                            Chingchong    anger   \n",
       "4                                 tanginamo ang bobo mo  disgust   \n",
       "...                                                 ...      ...   \n",
       "8686     Why are you palying this game if your this bad  disgust   \n",
       "8687                                               bobo    anger   \n",
       "8688                                       Tatanga niyo    anger   \n",
       "8689                                       trashtalking    anger   \n",
       "8690                                       ang tanga mo    anger   \n",
       "\n",
       "            toxicity  \n",
       "0          not toxic  \n",
       "1     blaming others  \n",
       "2      male preserve  \n",
       "3             racism  \n",
       "4      cyberbullying  \n",
       "...              ...  \n",
       "8686   gamesplaining  \n",
       "8687   cyberbullying  \n",
       "8688  ebr complaints  \n",
       "8689   cyberbullying  \n",
       "8690  blaming others  \n",
       "\n",
       "[8691 rows x 4 columns]"
      ]
     },
     "execution_count": 48,
     "metadata": {},
     "output_type": "execute_result"
    }
   ],
   "source": [
    "combined_df"
   ]
  },
  {
   "cell_type": "code",
   "execution_count": null,
   "metadata": {},
   "outputs": [],
   "source": []
  }
 ],
 "metadata": {
  "kernelspec": {
   "display_name": ".venv",
   "language": "python",
   "name": "python3"
  },
  "language_info": {
   "codemirror_mode": {
    "name": "ipython",
    "version": 3
   },
   "file_extension": ".py",
   "mimetype": "text/x-python",
   "name": "python",
   "nbconvert_exporter": "python",
   "pygments_lexer": "ipython3",
   "version": "3.9.2"
  },
  "orig_nbformat": 4
 },
 "nbformat": 4,
 "nbformat_minor": 2
}
