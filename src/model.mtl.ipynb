{
 "cells": [
  {
   "attachments": {},
   "cell_type": "markdown",
   "metadata": {},
   "source": [
    "# MTL in Detection of Emotion, Toxicity Classification"
   ]
  },
  {
   "attachments": {},
   "cell_type": "markdown",
   "metadata": {},
   "source": [
    "### 1. Importing Libraries"
   ]
  },
  {
   "cell_type": "code",
   "execution_count": 2,
   "metadata": {},
   "outputs": [],
   "source": [
    "import pandas as pd\n",
    "import matplotlib.pyplot as plt\n",
    "import numpy as np\n",
    "import torch\n",
    "import torch_directml as td\n",
    "%matplotlib inline\n"
   ]
  },
  {
   "cell_type": "code",
   "execution_count": 3,
   "metadata": {},
   "outputs": [],
   "source": [
    "def select_device(device=''):\n",
    "    if device.lower() == 'cuda':\n",
    "        if not torch.cuda.is_available():\n",
    "            print (\"torch.cuda not available\")\n",
    "            return torch.device('cpu')    \n",
    "        else:\n",
    "            return torch.device('cuda:0')\n",
    "    if device.lower() == 'dml':\n",
    "        return td.device(td.default_device())\n",
    "    else:\n",
    "        return torch.device('cpu')"
   ]
  },
  {
   "cell_type": "code",
   "execution_count": 4,
   "metadata": {},
   "outputs": [],
   "source": [
    "device = select_device('dml')"
   ]
  },
  {
   "cell_type": "markdown",
   "metadata": {},
   "source": [
    "#### 1.1 Import Dataset"
   ]
  },
  {
   "cell_type": "code",
   "execution_count": 5,
   "metadata": {},
   "outputs": [],
   "source": [
    "name_8k_dataset = \"Almost Balance_Dataset_ChattyTicket.csv\""
   ]
  },
  {
   "cell_type": "code",
   "execution_count": 6,
   "metadata": {},
   "outputs": [],
   "source": [
    "df = pd.read_csv(f'../dataset/{name_8k_dataset}', encoding='utf-8')\n"
   ]
  },
  {
   "cell_type": "code",
   "execution_count": 7,
   "metadata": {},
   "outputs": [
    {
     "name": "stdout",
     "output_type": "stream",
     "text": [
      "username    3\n",
      "chat        0\n",
      "emotion     0\n",
      "toxicity    0\n",
      "dtype: int64\n"
     ]
    }
   ],
   "source": [
    "# check for any null values\n",
    "print(df.isnull().sum())"
   ]
  },
  {
   "cell_type": "code",
   "execution_count": 8,
   "metadata": {},
   "outputs": [
    {
     "name": "stdout",
     "output_type": "stream",
     "text": [
      "<class 'pandas.core.frame.DataFrame'>\n",
      "RangeIndex: 7328 entries, 0 to 7327\n",
      "Data columns (total 4 columns):\n",
      " #   Column    Non-Null Count  Dtype \n",
      "---  ------    --------------  ----- \n",
      " 0   username  7325 non-null   object\n",
      " 1   chat      7328 non-null   object\n",
      " 2   emotion   7328 non-null   object\n",
      " 3   toxicity  7328 non-null   object\n",
      "dtypes: object(4)\n",
      "memory usage: 229.1+ KB\n"
     ]
    }
   ],
   "source": [
    "df.info()"
   ]
  },
  {
   "cell_type": "code",
   "execution_count": 9,
   "metadata": {},
   "outputs": [
    {
     "data": {
      "text/html": [
       "<div>\n",
       "<style scoped>\n",
       "    .dataframe tbody tr th:only-of-type {\n",
       "        vertical-align: middle;\n",
       "    }\n",
       "\n",
       "    .dataframe tbody tr th {\n",
       "        vertical-align: top;\n",
       "    }\n",
       "\n",
       "    .dataframe thead th {\n",
       "        text-align: right;\n",
       "    }\n",
       "</style>\n",
       "<table border=\"1\" class=\"dataframe\">\n",
       "  <thead>\n",
       "    <tr style=\"text-align: right;\">\n",
       "      <th></th>\n",
       "      <th>username</th>\n",
       "      <th>chat</th>\n",
       "      <th>emotion</th>\n",
       "      <th>toxicity</th>\n",
       "    </tr>\n",
       "  </thead>\n",
       "  <tbody>\n",
       "    <tr>\n",
       "      <th>0</th>\n",
       "      <td>Jape</td>\n",
       "      <td>-140</td>\n",
       "      <td>neutral</td>\n",
       "      <td>not toxic</td>\n",
       "    </tr>\n",
       "    <tr>\n",
       "      <th>1</th>\n",
       "      <td>Shizuwu</td>\n",
       "      <td>5</td>\n",
       "      <td>neutral</td>\n",
       "      <td>not toxic</td>\n",
       "    </tr>\n",
       "    <tr>\n",
       "      <th>2</th>\n",
       "      <td>neverland</td>\n",
       "      <td>80</td>\n",
       "      <td>neutral</td>\n",
       "      <td>not toxic</td>\n",
       "    </tr>\n",
       "    <tr>\n",
       "      <th>3</th>\n",
       "      <td>LikMaB#alls</td>\n",
       "      <td>88</td>\n",
       "      <td>neutral</td>\n",
       "      <td>not toxic</td>\n",
       "    </tr>\n",
       "    <tr>\n",
       "      <th>4</th>\n",
       "      <td>Iskiri</td>\n",
       "      <td>120</td>\n",
       "      <td>neutral</td>\n",
       "      <td>not toxic</td>\n",
       "    </tr>\n",
       "  </tbody>\n",
       "</table>\n",
       "</div>"
      ],
      "text/plain": [
       "      username  chat  emotion   toxicity\n",
       "0         Jape  -140  neutral  not toxic\n",
       "1      Shizuwu     5  neutral  not toxic\n",
       "2    neverland    80  neutral  not toxic\n",
       "3  LikMaB#alls    88  neutral  not toxic\n",
       "4       Iskiri   120  neutral  not toxic"
      ]
     },
     "execution_count": 9,
     "metadata": {},
     "output_type": "execute_result"
    }
   ],
   "source": [
    "df.head()"
   ]
  },
  {
   "cell_type": "code",
   "execution_count": 10,
   "metadata": {},
   "outputs": [],
   "source": [
    "df = df.sample(frac=1)"
   ]
  },
  {
   "cell_type": "code",
   "execution_count": 11,
   "metadata": {},
   "outputs": [],
   "source": [
    "df.reset_index(drop=True, inplace=True)"
   ]
  },
  {
   "cell_type": "code",
   "execution_count": 12,
   "metadata": {},
   "outputs": [
    {
     "data": {
      "text/html": [
       "<div>\n",
       "<style scoped>\n",
       "    .dataframe tbody tr th:only-of-type {\n",
       "        vertical-align: middle;\n",
       "    }\n",
       "\n",
       "    .dataframe tbody tr th {\n",
       "        vertical-align: top;\n",
       "    }\n",
       "\n",
       "    .dataframe thead th {\n",
       "        text-align: right;\n",
       "    }\n",
       "</style>\n",
       "<table border=\"1\" class=\"dataframe\">\n",
       "  <thead>\n",
       "    <tr style=\"text-align: right;\">\n",
       "      <th></th>\n",
       "      <th>username</th>\n",
       "      <th>chat</th>\n",
       "      <th>emotion</th>\n",
       "      <th>toxicity</th>\n",
       "    </tr>\n",
       "  </thead>\n",
       "  <tbody>\n",
       "    <tr>\n",
       "      <th>7323</th>\n",
       "      <td>Nvrm #2542</td>\n",
       "      <td>nt</td>\n",
       "      <td>surprise</td>\n",
       "      <td>not toxic</td>\n",
       "    </tr>\n",
       "    <tr>\n",
       "      <th>7324</th>\n",
       "      <td>PandaBaby #BABY</td>\n",
       "      <td>our &lt;agent&gt; is better</td>\n",
       "      <td>happy</td>\n",
       "      <td>not toxic</td>\n",
       "    </tr>\n",
       "    <tr>\n",
       "      <th>7325</th>\n",
       "      <td>mustard #tin</td>\n",
       "      <td>ggs</td>\n",
       "      <td>sad</td>\n",
       "      <td>not toxic</td>\n",
       "    </tr>\n",
       "    <tr>\n",
       "      <th>7326</th>\n",
       "      <td>Primo #kari2</td>\n",
       "      <td>\"Do you know how to play?\"</td>\n",
       "      <td>disgust</td>\n",
       "      <td>gamesplaining</td>\n",
       "    </tr>\n",
       "    <tr>\n",
       "      <th>7327</th>\n",
       "      <td>Rin#Luts</td>\n",
       "      <td>Hope yall had a good day</td>\n",
       "      <td>happy</td>\n",
       "      <td>not toxic</td>\n",
       "    </tr>\n",
       "  </tbody>\n",
       "</table>\n",
       "</div>"
      ],
      "text/plain": [
       "             username                        chat   emotion       toxicity\n",
       "7323       Nvrm #2542                          nt  surprise      not toxic\n",
       "7324  PandaBaby #BABY       our <agent> is better     happy      not toxic\n",
       "7325     mustard #tin                         ggs       sad      not toxic\n",
       "7326     Primo #kari2  \"Do you know how to play?\"   disgust  gamesplaining\n",
       "7327        Rin#Luts     Hope yall had a good day     happy      not toxic"
      ]
     },
     "execution_count": 12,
     "metadata": {},
     "output_type": "execute_result"
    }
   ],
   "source": [
    "df.tail()"
   ]
  },
  {
   "cell_type": "code",
   "execution_count": 13,
   "metadata": {},
   "outputs": [
    {
     "data": {
      "text/html": [
       "<div>\n",
       "<style scoped>\n",
       "    .dataframe tbody tr th:only-of-type {\n",
       "        vertical-align: middle;\n",
       "    }\n",
       "\n",
       "    .dataframe tbody tr th {\n",
       "        vertical-align: top;\n",
       "    }\n",
       "\n",
       "    .dataframe thead th {\n",
       "        text-align: right;\n",
       "    }\n",
       "</style>\n",
       "<table border=\"1\" class=\"dataframe\">\n",
       "  <thead>\n",
       "    <tr style=\"text-align: right;\">\n",
       "      <th></th>\n",
       "      <th>username</th>\n",
       "      <th>chat</th>\n",
       "      <th>emotion</th>\n",
       "      <th>toxicity</th>\n",
       "    </tr>\n",
       "  </thead>\n",
       "  <tbody>\n",
       "    <tr>\n",
       "      <th>0</th>\n",
       "      <td>zineeey#777</td>\n",
       "      <td>Go die stupid bitch</td>\n",
       "      <td>anger</td>\n",
       "      <td>Multiple Discrimination</td>\n",
       "    </tr>\n",
       "    <tr>\n",
       "      <th>1</th>\n",
       "      <td>Jape</td>\n",
       "      <td>Xd</td>\n",
       "      <td>neutral</td>\n",
       "      <td>not toxic</td>\n",
       "    </tr>\n",
       "    <tr>\n",
       "      <th>2</th>\n",
       "      <td>Naoki #0704</td>\n",
       "      <td>you can do it again</td>\n",
       "      <td>sad</td>\n",
       "      <td>sarcasm</td>\n",
       "    </tr>\n",
       "    <tr>\n",
       "      <th>3</th>\n",
       "      <td>NissanSilvia S15 #Panda</td>\n",
       "      <td>ang bano naman</td>\n",
       "      <td>disgust</td>\n",
       "      <td>cyberbullying</td>\n",
       "    </tr>\n",
       "    <tr>\n",
       "      <th>4</th>\n",
       "      <td>DanaSoslar#abbie</td>\n",
       "      <td>nice game</td>\n",
       "      <td>happy</td>\n",
       "      <td>not toxic</td>\n",
       "    </tr>\n",
       "  </tbody>\n",
       "</table>\n",
       "</div>"
      ],
      "text/plain": [
       "                  username                  chat  emotion  \\\n",
       "0             zineeey#777    Go die stupid bitch    anger   \n",
       "1                     Jape                    Xd  neutral   \n",
       "2              Naoki #0704   you can do it again      sad   \n",
       "3  NissanSilvia S15 #Panda        ang bano naman  disgust   \n",
       "4         DanaSoslar#abbie             nice game    happy   \n",
       "\n",
       "                  toxicity  \n",
       "0  Multiple Discrimination  \n",
       "1                not toxic  \n",
       "2                  sarcasm  \n",
       "3            cyberbullying  \n",
       "4                not toxic  "
      ]
     },
     "execution_count": 13,
     "metadata": {},
     "output_type": "execute_result"
    }
   ],
   "source": [
    "df.head()"
   ]
  },
  {
   "cell_type": "markdown",
   "metadata": {},
   "source": [
    "#### 1.2 Check all the classes\n",
    "\n",
    "`toxicity`"
   ]
  },
  {
   "cell_type": "code",
   "execution_count": 14,
   "metadata": {},
   "outputs": [
    {
     "data": {
      "text/plain": [
       "toxicity\n",
       "not toxic                         2692\n",
       "cyberbullying                     1219\n",
       "sarcasm                           1212\n",
       "Cyberbullying                      635\n",
       "Gameplay Experience Complaints     545\n",
       "Multiple Discrimination            409\n",
       "gamesplaining                      256\n",
       "Blaming others                     236\n",
       "blaming others                     122\n",
       "Sarcasm                              2\n",
       "Name: count, dtype: int64"
      ]
     },
     "execution_count": 14,
     "metadata": {},
     "output_type": "execute_result"
    }
   ],
   "source": [
    "df['toxicity'].value_counts()"
   ]
  },
  {
   "cell_type": "code",
   "execution_count": 15,
   "metadata": {},
   "outputs": [],
   "source": [
    "df['toxicity']= df['toxicity'].apply(lambda x: x.lower())"
   ]
  },
  {
   "cell_type": "code",
   "execution_count": 16,
   "metadata": {},
   "outputs": [
    {
     "data": {
      "image/png": "[encoded data removed]",
      "text/plain": [
       "<Figure size 1000x500 with 1 Axes>"
      ]
     },
     "metadata": {},
     "output_type": "display_data"
    }
   ],
   "source": [
    "# bar plot \n",
    "plt.figure(figsize=(10,5))\n",
    "df['toxicity'].value_counts().plot(kind='bar')\n",
    "plt.ylabel('Number of chats')\n",
    "plt.xlabel('Toxicity')\n",
    "plt.title('Toxicity Distribution')\n",
    "plt.show()"
   ]
  },
  {
   "cell_type": "markdown",
   "metadata": {},
   "source": [
    "`emotion / sentiment`"
   ]
  },
  {
   "cell_type": "code",
   "execution_count": 17,
   "metadata": {},
   "outputs": [
    {
     "data": {
      "text/plain": [
       "emotion\n",
       "happy       1956\n",
       "anger       1920\n",
       "disgust     1324\n",
       "neutral      931\n",
       "sad          896\n",
       "surprise     301\n",
       "Name: count, dtype: int64"
      ]
     },
     "execution_count": 17,
     "metadata": {},
     "output_type": "execute_result"
    }
   ],
   "source": [
    "df['emotion'].value_counts()"
   ]
  },
  {
   "cell_type": "code",
   "execution_count": 18,
   "metadata": {},
   "outputs": [
    {
     "data": {
      "image/png": "[encoded data removed]",
      "text/plain": [
       "<Figure size 1000x500 with 1 Axes>"
      ]
     },
     "metadata": {},
     "output_type": "display_data"
    }
   ],
   "source": [
    "# bar plot \n",
    "plt.figure(figsize=(10,5))\n",
    "df['emotion'].value_counts().plot(kind='bar')\n",
    "plt.ylabel('Number of chats')\n",
    "plt.xlabel('Emotion')\n",
    "plt.title('Emotion Distribution')\n",
    "plt.show()"
   ]
  },
  {
   "cell_type": "markdown",
   "metadata": {},
   "source": [
    "Test dataset from the survey and real chat"
   ]
  },
  {
   "cell_type": "code",
   "execution_count": 19,
   "metadata": {},
   "outputs": [],
   "source": [
    "df2 = pd.read_csv('../dataset/Almost Balance_unrevised_Dataset_ChattyTicket.csv')"
   ]
  },
  {
   "cell_type": "code",
   "execution_count": 20,
   "metadata": {},
   "outputs": [
    {
     "data": {
      "text/html": [
       "<div>\n",
       "<style scoped>\n",
       "    .dataframe tbody tr th:only-of-type {\n",
       "        vertical-align: middle;\n",
       "    }\n",
       "\n",
       "    .dataframe tbody tr th {\n",
       "        vertical-align: top;\n",
       "    }\n",
       "\n",
       "    .dataframe thead th {\n",
       "        text-align: right;\n",
       "    }\n",
       "</style>\n",
       "<table border=\"1\" class=\"dataframe\">\n",
       "  <thead>\n",
       "    <tr style=\"text-align: right;\">\n",
       "      <th></th>\n",
       "      <th>username</th>\n",
       "      <th>chat</th>\n",
       "      <th>emotion</th>\n",
       "      <th>toxicity</th>\n",
       "    </tr>\n",
       "  </thead>\n",
       "  <tbody>\n",
       "    <tr>\n",
       "      <th>0</th>\n",
       "      <td>GT BLACKSHEEP XIE</td>\n",
       "      <td>mb</td>\n",
       "      <td>sad</td>\n",
       "      <td>not toxic</td>\n",
       "    </tr>\n",
       "    <tr>\n",
       "      <th>1</th>\n",
       "      <td>GT BLACKSHEEP XIE</td>\n",
       "      <td>mb kj</td>\n",
       "      <td>sad</td>\n",
       "      <td>not toxic</td>\n",
       "    </tr>\n",
       "    <tr>\n",
       "      <th>2</th>\n",
       "      <td>GT BLACKSHEEP XIE</td>\n",
       "      <td>wp</td>\n",
       "      <td>happy</td>\n",
       "      <td>not toxic</td>\n",
       "    </tr>\n",
       "    <tr>\n",
       "      <th>3</th>\n",
       "      <td>GT BLACKSHEEP XIE</td>\n",
       "      <td>hahahaahaa</td>\n",
       "      <td>happy</td>\n",
       "      <td>not toxic</td>\n",
       "    </tr>\n",
       "    <tr>\n",
       "      <th>4</th>\n",
       "      <td>GT BLACKSHEEP XIE</td>\n",
       "      <td>noice HAHAHHAHAHA</td>\n",
       "      <td>happy</td>\n",
       "      <td>not toxic</td>\n",
       "    </tr>\n",
       "  </tbody>\n",
       "</table>\n",
       "</div>"
      ],
      "text/plain": [
       "            username               chat emotion   toxicity\n",
       "0  GT BLACKSHEEP XIE                 mb     sad  not toxic\n",
       "1  GT BLACKSHEEP XIE              mb kj     sad  not toxic\n",
       "2  GT BLACKSHEEP XIE                 wp   happy  not toxic\n",
       "3  GT BLACKSHEEP XIE         hahahaahaa   happy  not toxic\n",
       "4  GT BLACKSHEEP XIE  noice HAHAHHAHAHA   happy  not toxic"
      ]
     },
     "execution_count": 20,
     "metadata": {},
     "output_type": "execute_result"
    }
   ],
   "source": [
    "df2.head()"
   ]
  },
  {
   "cell_type": "code",
   "execution_count": 21,
   "metadata": {},
   "outputs": [],
   "source": [
    "df2['toxicity']= df2['toxicity'].apply(lambda x: x.lower())"
   ]
  },
  {
   "cell_type": "code",
   "execution_count": 22,
   "metadata": {},
   "outputs": [
    {
     "data": {
      "text/plain": [
       "emotion\n",
       "anger       192\n",
       "happy       184\n",
       "disgust     134\n",
       "neutral     120\n",
       "sad         108\n",
       "surprise     21\n",
       "Name: count, dtype: int64"
      ]
     },
     "execution_count": 22,
     "metadata": {},
     "output_type": "execute_result"
    }
   ],
   "source": [
    "df2['emotion'].value_counts()"
   ]
  },
  {
   "cell_type": "code",
   "execution_count": 23,
   "metadata": {},
   "outputs": [
    {
     "data": {
      "text/plain": [
       "toxicity\n",
       "not toxic                         407\n",
       "cyberbullying                     143\n",
       "sarcasm                            90\n",
       "gameplay experience complaints     65\n",
       "multiple discrimination            31\n",
       "blaming others                     22\n",
       "gamesplaining                       1\n",
       "Name: count, dtype: int64"
      ]
     },
     "execution_count": 23,
     "metadata": {},
     "output_type": "execute_result"
    }
   ],
   "source": [
    "df2['toxicity'].value_counts()"
   ]
  },
  {
   "cell_type": "code",
   "execution_count": 24,
   "metadata": {},
   "outputs": [
    {
     "name": "stdout",
     "output_type": "stream",
     "text": [
      "<class 'pandas.core.frame.DataFrame'>\n",
      "RangeIndex: 759 entries, 0 to 758\n",
      "Data columns (total 4 columns):\n",
      " #   Column    Non-Null Count  Dtype \n",
      "---  ------    --------------  ----- \n",
      " 0   username  759 non-null    object\n",
      " 1   chat      759 non-null    object\n",
      " 2   emotion   759 non-null    object\n",
      " 3   toxicity  759 non-null    object\n",
      "dtypes: object(4)\n",
      "memory usage: 23.8+ KB\n"
     ]
    }
   ],
   "source": [
    "df2.info()"
   ]
  },
  {
   "cell_type": "code",
   "execution_count": 25,
   "metadata": {},
   "outputs": [
    {
     "data": {
      "text/plain": [
       "emotion\n",
       "anger       192\n",
       "happy       184\n",
       "disgust     134\n",
       "neutral     120\n",
       "sad         108\n",
       "surprise     21\n",
       "Name: count, dtype: int64"
      ]
     },
     "execution_count": 25,
     "metadata": {},
     "output_type": "execute_result"
    }
   ],
   "source": [
    "df2['emotion'].value_counts()"
   ]
  },
  {
   "cell_type": "code",
   "execution_count": 26,
   "metadata": {},
   "outputs": [
    {
     "name": "stdout",
     "output_type": "stream",
     "text": [
      "Total Test set 1631.08\n"
     ]
    }
   ],
   "source": [
    "# compute the test set\n",
    "print(\"Total Test set\",(7928*0.11)+759)"
   ]
  },
  {
   "cell_type": "markdown",
   "metadata": {},
   "source": [
    "Getting the portion data from the big dataset"
   ]
  },
  {
   "cell_type": "code",
   "execution_count": 27,
   "metadata": {},
   "outputs": [],
   "source": [
    "df = df.sample(frac=1)"
   ]
  },
  {
   "cell_type": "code",
   "execution_count": 28,
   "metadata": {},
   "outputs": [],
   "source": [
    "from sklearn.model_selection import train_test_split\n",
    "train, test =  train_test_split(df, test_size=0.11)"
   ]
  },
  {
   "cell_type": "code",
   "execution_count": 29,
   "metadata": {},
   "outputs": [],
   "source": [
    "train.to_pickle('../dataset/preprocessed_df_train.pkl')"
   ]
  },
  {
   "cell_type": "markdown",
   "metadata": {},
   "source": [
    "Combining the two datasets"
   ]
  },
  {
   "cell_type": "code",
   "execution_count": 30,
   "metadata": {},
   "outputs": [],
   "source": [
    "test_ = pd.concat([df2, test])"
   ]
  },
  {
   "cell_type": "code",
   "execution_count": 31,
   "metadata": {},
   "outputs": [
    {
     "data": {
      "text/plain": [
       "emotion\n",
       "anger       192\n",
       "happy       184\n",
       "disgust     134\n",
       "neutral     120\n",
       "sad         108\n",
       "surprise     21\n",
       "Name: count, dtype: int64"
      ]
     },
     "execution_count": 31,
     "metadata": {},
     "output_type": "execute_result"
    }
   ],
   "source": [
    "df2['emotion'].value_counts()"
   ]
  },
  {
   "cell_type": "code",
   "execution_count": 32,
   "metadata": {},
   "outputs": [
    {
     "data": {
      "text/plain": [
       "toxicity\n",
       "not toxic                         2396\n",
       "cyberbullying                     1649\n",
       "sarcasm                           1087\n",
       "gameplay experience complaints     497\n",
       "multiple discrimination            356\n",
       "blaming others                     302\n",
       "gamesplaining                      234\n",
       "Name: count, dtype: int64"
      ]
     },
     "execution_count": 32,
     "metadata": {},
     "output_type": "execute_result"
    }
   ],
   "source": [
    "train['toxicity'].value_counts()"
   ]
  },
  {
   "cell_type": "code",
   "execution_count": 33,
   "metadata": {},
   "outputs": [
    {
     "data": {
      "text/plain": [
       "toxicity\n",
       "not toxic                         703\n",
       "cyberbullying                     348\n",
       "sarcasm                           217\n",
       "gameplay experience complaints    113\n",
       "multiple discrimination            84\n",
       "blaming others                     78\n",
       "gamesplaining                      23\n",
       "Name: count, dtype: int64"
      ]
     },
     "execution_count": 33,
     "metadata": {},
     "output_type": "execute_result"
    }
   ],
   "source": [
    "test_['toxicity'].value_counts()"
   ]
  },
  {
   "cell_type": "code",
   "execution_count": 34,
   "metadata": {},
   "outputs": [
    {
     "data": {
      "text/plain": [
       "emotion\n",
       "anger       402\n",
       "happy       382\n",
       "disgust     297\n",
       "neutral     216\n",
       "sad         213\n",
       "surprise     56\n",
       "Name: count, dtype: int64"
      ]
     },
     "execution_count": 34,
     "metadata": {},
     "output_type": "execute_result"
    }
   ],
   "source": [
    "test_['emotion'].value_counts()"
   ]
  },
  {
   "cell_type": "code",
   "execution_count": 35,
   "metadata": {},
   "outputs": [
    {
     "name": "stdout",
     "output_type": "stream",
     "text": [
      "username    0\n",
      "chat        0\n",
      "emotion     0\n",
      "toxicity    0\n",
      "dtype: int64\n"
     ]
    }
   ],
   "source": [
    "# check for any null values\n",
    "print(test_.isnull().sum())"
   ]
  },
  {
   "cell_type": "code",
   "execution_count": 36,
   "metadata": {},
   "outputs": [],
   "source": [
    "# export train set\n",
    "test_.to_pickle('../dataset/preprocessed_df_test.pkl')"
   ]
  },
  {
   "cell_type": "code",
   "execution_count": 37,
   "metadata": {},
   "outputs": [],
   "source": [
    "combined_df = pd.concat([train,test_], ignore_index=True)"
   ]
  },
  {
   "cell_type": "code",
   "execution_count": 38,
   "metadata": {},
   "outputs": [],
   "source": [
    "combined_df.to_pickle('../dataset/preprocessed_df_combined.pkl')"
   ]
  },
  {
   "cell_type": "code",
   "execution_count": 39,
   "metadata": {},
   "outputs": [
    {
     "data": {
      "text/plain": [
       "toxicity\n",
       "not toxic                         3099\n",
       "cyberbullying                     1997\n",
       "sarcasm                           1304\n",
       "gameplay experience complaints     610\n",
       "multiple discrimination            440\n",
       "blaming others                     380\n",
       "gamesplaining                      257\n",
       "Name: count, dtype: int64"
      ]
     },
     "execution_count": 39,
     "metadata": {},
     "output_type": "execute_result"
    }
   ],
   "source": [
    "combined_df['toxicity'].value_counts()"
   ]
  },
  {
   "cell_type": "code",
   "execution_count": 40,
   "metadata": {},
   "outputs": [
    {
     "data": {
      "text/html": [
       "<div>\n",
       "<style scoped>\n",
       "    .dataframe tbody tr th:only-of-type {\n",
       "        vertical-align: middle;\n",
       "    }\n",
       "\n",
       "    .dataframe tbody tr th {\n",
       "        vertical-align: top;\n",
       "    }\n",
       "\n",
       "    .dataframe thead th {\n",
       "        text-align: right;\n",
       "    }\n",
       "</style>\n",
       "<table border=\"1\" class=\"dataframe\">\n",
       "  <thead>\n",
       "    <tr style=\"text-align: right;\">\n",
       "      <th></th>\n",
       "      <th>username</th>\n",
       "      <th>chat</th>\n",
       "      <th>emotion</th>\n",
       "      <th>toxicity</th>\n",
       "    </tr>\n",
       "  </thead>\n",
       "  <tbody>\n",
       "    <tr>\n",
       "      <th>0</th>\n",
       "      <td>GT BLACKSHEEP # XIE</td>\n",
       "      <td>gagaling hays</td>\n",
       "      <td>sad</td>\n",
       "      <td>sarcasm</td>\n",
       "    </tr>\n",
       "    <tr>\n",
       "      <th>1</th>\n",
       "      <td>Aoki #xyr</td>\n",
       "      <td>Have a good day</td>\n",
       "      <td>happy</td>\n",
       "      <td>not toxic</td>\n",
       "    </tr>\n",
       "    <tr>\n",
       "      <th>2</th>\n",
       "      <td>bagal #3250</td>\n",
       "      <td>rotating</td>\n",
       "      <td>neutral</td>\n",
       "      <td>not toxic</td>\n",
       "    </tr>\n",
       "    <tr>\n",
       "      <th>3</th>\n",
       "      <td>CST kenz#porks</td>\n",
       "      <td>glhf</td>\n",
       "      <td>sad</td>\n",
       "      <td>sarcasm</td>\n",
       "    </tr>\n",
       "    <tr>\n",
       "      <th>4</th>\n",
       "      <td>Zero Integral #AVI</td>\n",
       "      <td>glhf</td>\n",
       "      <td>sad</td>\n",
       "      <td>sarcasm</td>\n",
       "    </tr>\n",
       "    <tr>\n",
       "      <th>...</th>\n",
       "      <td>...</td>\n",
       "      <td>...</td>\n",
       "      <td>...</td>\n",
       "      <td>...</td>\n",
       "    </tr>\n",
       "    <tr>\n",
       "      <th>8082</th>\n",
       "      <td>Sanibeu#DDG</td>\n",
       "      <td>wtf</td>\n",
       "      <td>anger</td>\n",
       "      <td>cyberbullying</td>\n",
       "    </tr>\n",
       "    <tr>\n",
       "      <th>8083</th>\n",
       "      <td>iskay #0525</td>\n",
       "      <td>surrender nalang</td>\n",
       "      <td>sad</td>\n",
       "      <td>gameplay experience complaints</td>\n",
       "    </tr>\n",
       "    <tr>\n",
       "      <th>8084</th>\n",
       "      <td>VEli#1830</td>\n",
       "      <td>'your aim sucks'</td>\n",
       "      <td>anger</td>\n",
       "      <td>blaming others</td>\n",
       "    </tr>\n",
       "    <tr>\n",
       "      <th>8085</th>\n",
       "      <td>Kuro#9045</td>\n",
       "      <td>ggez</td>\n",
       "      <td>neutral</td>\n",
       "      <td>sarcasm</td>\n",
       "    </tr>\n",
       "    <tr>\n",
       "      <th>8086</th>\n",
       "      <td>G2V Yadidss #0413</td>\n",
       "      <td>noob</td>\n",
       "      <td>disgust</td>\n",
       "      <td>cyberbullying</td>\n",
       "    </tr>\n",
       "  </tbody>\n",
       "</table>\n",
       "<p>8087 rows × 4 columns</p>\n",
       "</div>"
      ],
      "text/plain": [
       "                 username               chat  emotion  \\\n",
       "0     GT BLACKSHEEP # XIE      gagaling hays      sad   \n",
       "1               Aoki #xyr    Have a good day    happy   \n",
       "2             bagal #3250           rotating  neutral   \n",
       "3          CST kenz#porks               glhf      sad   \n",
       "4      Zero Integral #AVI               glhf      sad   \n",
       "...                   ...                ...      ...   \n",
       "8082          Sanibeu#DDG                wtf    anger   \n",
       "8083          iskay #0525   surrender nalang      sad   \n",
       "8084            VEli#1830   'your aim sucks'    anger   \n",
       "8085            Kuro#9045               ggez  neutral   \n",
       "8086    G2V Yadidss #0413               noob  disgust   \n",
       "\n",
       "                            toxicity  \n",
       "0                            sarcasm  \n",
       "1                          not toxic  \n",
       "2                          not toxic  \n",
       "3                            sarcasm  \n",
       "4                            sarcasm  \n",
       "...                              ...  \n",
       "8082                   cyberbullying  \n",
       "8083  gameplay experience complaints  \n",
       "8084                  blaming others  \n",
       "8085                         sarcasm  \n",
       "8086                   cyberbullying  \n",
       "\n",
       "[8087 rows x 4 columns]"
      ]
     },
     "execution_count": 40,
     "metadata": {},
     "output_type": "execute_result"
    }
   ],
   "source": [
    "combined_df"
   ]
  },
  {
   "cell_type": "code",
   "execution_count": 41,
   "metadata": {},
   "outputs": [
    {
     "data": {
      "text/html": [
       "<div>\n",
       "<style scoped>\n",
       "    .dataframe tbody tr th:only-of-type {\n",
       "        vertical-align: middle;\n",
       "    }\n",
       "\n",
       "    .dataframe tbody tr th {\n",
       "        vertical-align: top;\n",
       "    }\n",
       "\n",
       "    .dataframe thead th {\n",
       "        text-align: right;\n",
       "    }\n",
       "</style>\n",
       "<table border=\"1\" class=\"dataframe\">\n",
       "  <thead>\n",
       "    <tr style=\"text-align: right;\">\n",
       "      <th></th>\n",
       "      <th>username</th>\n",
       "      <th>chat</th>\n",
       "      <th>emotion</th>\n",
       "      <th>toxicity</th>\n",
       "    </tr>\n",
       "  </thead>\n",
       "  <tbody>\n",
       "    <tr>\n",
       "      <th>3233</th>\n",
       "      <td>GT BLACKSHEEP # XIE</td>\n",
       "      <td>gagaling hays</td>\n",
       "      <td>sad</td>\n",
       "      <td>sarcasm</td>\n",
       "    </tr>\n",
       "    <tr>\n",
       "      <th>4284</th>\n",
       "      <td>Aoki #xyr</td>\n",
       "      <td>Have a good day</td>\n",
       "      <td>happy</td>\n",
       "      <td>not toxic</td>\n",
       "    </tr>\n",
       "    <tr>\n",
       "      <th>6932</th>\n",
       "      <td>bagal #3250</td>\n",
       "      <td>rotating</td>\n",
       "      <td>neutral</td>\n",
       "      <td>not toxic</td>\n",
       "    </tr>\n",
       "    <tr>\n",
       "      <th>2307</th>\n",
       "      <td>CST kenz#porks</td>\n",
       "      <td>glhf</td>\n",
       "      <td>sad</td>\n",
       "      <td>sarcasm</td>\n",
       "    </tr>\n",
       "    <tr>\n",
       "      <th>7319</th>\n",
       "      <td>Zero Integral #AVI</td>\n",
       "      <td>glhf</td>\n",
       "      <td>sad</td>\n",
       "      <td>sarcasm</td>\n",
       "    </tr>\n",
       "    <tr>\n",
       "      <th>...</th>\n",
       "      <td>...</td>\n",
       "      <td>...</td>\n",
       "      <td>...</td>\n",
       "      <td>...</td>\n",
       "    </tr>\n",
       "    <tr>\n",
       "      <th>5231</th>\n",
       "      <td>Bunchun#7up</td>\n",
       "      <td>tanga</td>\n",
       "      <td>anger</td>\n",
       "      <td>cyberbullying</td>\n",
       "    </tr>\n",
       "    <tr>\n",
       "      <th>6003</th>\n",
       "      <td>chiefZr0#6969</td>\n",
       "      <td>\"nt\"</td>\n",
       "      <td>happy</td>\n",
       "      <td>not toxic</td>\n",
       "    </tr>\n",
       "    <tr>\n",
       "      <th>5</th>\n",
       "      <td>hecs#2OO1</td>\n",
       "      <td>GG</td>\n",
       "      <td>happy</td>\n",
       "      <td>sarcasm</td>\n",
       "    </tr>\n",
       "    <tr>\n",
       "      <th>1855</th>\n",
       "      <td>SCE Hades #Riz</td>\n",
       "      <td>nice game</td>\n",
       "      <td>happy</td>\n",
       "      <td>not toxic</td>\n",
       "    </tr>\n",
       "    <tr>\n",
       "      <th>6624</th>\n",
       "      <td>Saberu</td>\n",
       "      <td>gay judge</td>\n",
       "      <td>disgust</td>\n",
       "      <td>cyberbullying</td>\n",
       "    </tr>\n",
       "  </tbody>\n",
       "</table>\n",
       "<p>6521 rows × 4 columns</p>\n",
       "</div>"
      ],
      "text/plain": [
       "                 username              chat  emotion       toxicity\n",
       "3233  GT BLACKSHEEP # XIE     gagaling hays      sad        sarcasm\n",
       "4284            Aoki #xyr   Have a good day    happy      not toxic\n",
       "6932          bagal #3250          rotating  neutral      not toxic\n",
       "2307       CST kenz#porks              glhf      sad        sarcasm\n",
       "7319   Zero Integral #AVI              glhf      sad        sarcasm\n",
       "...                   ...               ...      ...            ...\n",
       "5231          Bunchun#7up             tanga    anger  cyberbullying\n",
       "6003        chiefZr0#6969              \"nt\"    happy      not toxic\n",
       "5               hecs#2OO1                GG    happy        sarcasm\n",
       "1855       SCE Hades #Riz         nice game    happy      not toxic\n",
       "6624               Saberu         gay judge  disgust  cyberbullying\n",
       "\n",
       "[6521 rows x 4 columns]"
      ]
     },
     "execution_count": 41,
     "metadata": {},
     "output_type": "execute_result"
    }
   ],
   "source": [
    "train"
   ]
  },
  {
   "cell_type": "code",
   "execution_count": 42,
   "metadata": {},
   "outputs": [
    {
     "data": {
      "text/plain": [
       "emotion\n",
       "anger       402\n",
       "happy       382\n",
       "disgust     297\n",
       "neutral     216\n",
       "sad         213\n",
       "surprise     56\n",
       "Name: count, dtype: int64"
      ]
     },
     "execution_count": 42,
     "metadata": {},
     "output_type": "execute_result"
    }
   ],
   "source": [
    "test_['emotion'].value_counts()"
   ]
  },
  {
   "cell_type": "code",
   "execution_count": 43,
   "metadata": {},
   "outputs": [
    {
     "data": {
      "text/plain": [
       "emotion\n",
       "happy       2140\n",
       "anger       2112\n",
       "disgust     1458\n",
       "neutral     1051\n",
       "sad         1004\n",
       "surprise     322\n",
       "Name: count, dtype: int64"
      ]
     },
     "execution_count": 43,
     "metadata": {},
     "output_type": "execute_result"
    }
   ],
   "source": [
    "combined_df['emotion'].value_counts()"
   ]
  },
  {
   "cell_type": "code",
   "execution_count": 44,
   "metadata": {},
   "outputs": [
    {
     "data": {
      "text/plain": [
       "toxicity\n",
       "not toxic                         3099\n",
       "cyberbullying                     1997\n",
       "sarcasm                           1304\n",
       "gameplay experience complaints     610\n",
       "multiple discrimination            440\n",
       "blaming others                     380\n",
       "gamesplaining                      257\n",
       "Name: count, dtype: int64"
      ]
     },
     "execution_count": 44,
     "metadata": {},
     "output_type": "execute_result"
    }
   ],
   "source": [
    "combined_df['toxicity'].value_counts()"
   ]
  },
  {
   "cell_type": "code",
   "execution_count": 45,
   "metadata": {},
   "outputs": [],
   "source": [
    "from sklearn.preprocessing import OneHotEncoder\n",
    "encoder_emotion = OneHotEncoder(sparse_output=False)\n",
    "encoder_toxicity = OneHotEncoder(sparse_output=False)\n",
    "\n",
    "y_toxicity_combined = encoder_toxicity.fit_transform(combined_df[['toxicity']])\n",
    "y_emotion_combined = encoder_emotion.fit_transform(combined_df[['emotion']])\n",
    "\n"
   ]
  },
  {
   "cell_type": "code",
   "execution_count": 46,
   "metadata": {},
   "outputs": [
    {
     "data": {
      "text/html": [
       "<div>\n",
       "<style scoped>\n",
       "    .dataframe tbody tr th:only-of-type {\n",
       "        vertical-align: middle;\n",
       "    }\n",
       "\n",
       "    .dataframe tbody tr th {\n",
       "        vertical-align: top;\n",
       "    }\n",
       "\n",
       "    .dataframe thead th {\n",
       "        text-align: right;\n",
       "    }\n",
       "</style>\n",
       "<table border=\"1\" class=\"dataframe\">\n",
       "  <thead>\n",
       "    <tr style=\"text-align: right;\">\n",
       "      <th></th>\n",
       "      <th>username</th>\n",
       "      <th>chat</th>\n",
       "      <th>emotion</th>\n",
       "      <th>toxicity</th>\n",
       "    </tr>\n",
       "  </thead>\n",
       "  <tbody>\n",
       "    <tr>\n",
       "      <th>0</th>\n",
       "      <td>GT BLACKSHEEP # XIE</td>\n",
       "      <td>gagaling hays</td>\n",
       "      <td>sad</td>\n",
       "      <td>sarcasm</td>\n",
       "    </tr>\n",
       "    <tr>\n",
       "      <th>1</th>\n",
       "      <td>Aoki #xyr</td>\n",
       "      <td>Have a good day</td>\n",
       "      <td>happy</td>\n",
       "      <td>not toxic</td>\n",
       "    </tr>\n",
       "    <tr>\n",
       "      <th>2</th>\n",
       "      <td>bagal #3250</td>\n",
       "      <td>rotating</td>\n",
       "      <td>neutral</td>\n",
       "      <td>not toxic</td>\n",
       "    </tr>\n",
       "    <tr>\n",
       "      <th>3</th>\n",
       "      <td>CST kenz#porks</td>\n",
       "      <td>glhf</td>\n",
       "      <td>sad</td>\n",
       "      <td>sarcasm</td>\n",
       "    </tr>\n",
       "    <tr>\n",
       "      <th>4</th>\n",
       "      <td>Zero Integral #AVI</td>\n",
       "      <td>glhf</td>\n",
       "      <td>sad</td>\n",
       "      <td>sarcasm</td>\n",
       "    </tr>\n",
       "    <tr>\n",
       "      <th>...</th>\n",
       "      <td>...</td>\n",
       "      <td>...</td>\n",
       "      <td>...</td>\n",
       "      <td>...</td>\n",
       "    </tr>\n",
       "    <tr>\n",
       "      <th>8082</th>\n",
       "      <td>Sanibeu#DDG</td>\n",
       "      <td>wtf</td>\n",
       "      <td>anger</td>\n",
       "      <td>cyberbullying</td>\n",
       "    </tr>\n",
       "    <tr>\n",
       "      <th>8083</th>\n",
       "      <td>iskay #0525</td>\n",
       "      <td>surrender nalang</td>\n",
       "      <td>sad</td>\n",
       "      <td>gameplay experience complaints</td>\n",
       "    </tr>\n",
       "    <tr>\n",
       "      <th>8084</th>\n",
       "      <td>VEli#1830</td>\n",
       "      <td>'your aim sucks'</td>\n",
       "      <td>anger</td>\n",
       "      <td>blaming others</td>\n",
       "    </tr>\n",
       "    <tr>\n",
       "      <th>8085</th>\n",
       "      <td>Kuro#9045</td>\n",
       "      <td>ggez</td>\n",
       "      <td>neutral</td>\n",
       "      <td>sarcasm</td>\n",
       "    </tr>\n",
       "    <tr>\n",
       "      <th>8086</th>\n",
       "      <td>G2V Yadidss #0413</td>\n",
       "      <td>noob</td>\n",
       "      <td>disgust</td>\n",
       "      <td>cyberbullying</td>\n",
       "    </tr>\n",
       "  </tbody>\n",
       "</table>\n",
       "<p>8087 rows × 4 columns</p>\n",
       "</div>"
      ],
      "text/plain": [
       "                 username               chat  emotion  \\\n",
       "0     GT BLACKSHEEP # XIE      gagaling hays      sad   \n",
       "1               Aoki #xyr    Have a good day    happy   \n",
       "2             bagal #3250           rotating  neutral   \n",
       "3          CST kenz#porks               glhf      sad   \n",
       "4      Zero Integral #AVI               glhf      sad   \n",
       "...                   ...                ...      ...   \n",
       "8082          Sanibeu#DDG                wtf    anger   \n",
       "8083          iskay #0525   surrender nalang      sad   \n",
       "8084            VEli#1830   'your aim sucks'    anger   \n",
       "8085            Kuro#9045               ggez  neutral   \n",
       "8086    G2V Yadidss #0413               noob  disgust   \n",
       "\n",
       "                            toxicity  \n",
       "0                            sarcasm  \n",
       "1                          not toxic  \n",
       "2                          not toxic  \n",
       "3                            sarcasm  \n",
       "4                            sarcasm  \n",
       "...                              ...  \n",
       "8082                   cyberbullying  \n",
       "8083  gameplay experience complaints  \n",
       "8084                  blaming others  \n",
       "8085                         sarcasm  \n",
       "8086                   cyberbullying  \n",
       "\n",
       "[8087 rows x 4 columns]"
      ]
     },
     "execution_count": 46,
     "metadata": {},
     "output_type": "execute_result"
    }
   ],
   "source": [
    "combined_df"
   ]
  },
  {
   "cell_type": "markdown",
   "metadata": {},
   "source": [
    "# Data Augmentation for Unbalanced Dataset"
   ]
  },
  {
   "cell_type": "markdown",
   "metadata": {},
   "source": [
    "### Under Sampling"
   ]
  },
  {
   "cell_type": "code",
   "execution_count": 47,
   "metadata": {},
   "outputs": [],
   "source": [
    "# Toxicity\n",
    "def undersample(df):\n",
    "    classes = df.toxicity.value_counts().to_dict()\n",
    "    least_class_amount = min(classes.values())\n",
    "    classes_list = []\n",
    "    for key in classes:\n",
    "        classes_list.append(df[df['toxicity'] == key]) \n",
    "    classes_sample = []\n",
    "    for i in range(0,len(classes_list)-1):\n",
    "        classes_sample.append(classes_list[i].sample(least_class_amount))\n",
    "    df_maybe = pd.concat(classes_sample)\n",
    "    final_df = pd.concat([df_maybe,classes_list[-1]], axis=0)\n",
    "    final_df = final_df.reset_index(drop=True)\n",
    "    return final_df"
   ]
  },
  {
   "cell_type": "code",
   "execution_count": 48,
   "metadata": {},
   "outputs": [],
   "source": [
    "undersampled_df = undersample(combined_df)"
   ]
  },
  {
   "cell_type": "code",
   "execution_count": 49,
   "metadata": {},
   "outputs": [
    {
     "name": "stdout",
     "output_type": "stream",
     "text": [
      "<class 'pandas.core.frame.DataFrame'>\n",
      "RangeIndex: 1799 entries, 0 to 1798\n",
      "Data columns (total 4 columns):\n",
      " #   Column    Non-Null Count  Dtype \n",
      "---  ------    --------------  ----- \n",
      " 0   username  1799 non-null   object\n",
      " 1   chat      1799 non-null   object\n",
      " 2   emotion   1799 non-null   object\n",
      " 3   toxicity  1799 non-null   object\n",
      "dtypes: object(4)\n",
      "memory usage: 56.3+ KB\n"
     ]
    }
   ],
   "source": [
    "undersampled_df.info()"
   ]
  },
  {
   "cell_type": "code",
   "execution_count": 50,
   "metadata": {},
   "outputs": [
    {
     "data": {
      "text/plain": [
       "toxicity\n",
       "not toxic                         257\n",
       "cyberbullying                     257\n",
       "sarcasm                           257\n",
       "gameplay experience complaints    257\n",
       "multiple discrimination           257\n",
       "blaming others                    257\n",
       "gamesplaining                     257\n",
       "Name: count, dtype: int64"
      ]
     },
     "execution_count": 50,
     "metadata": {},
     "output_type": "execute_result"
    }
   ],
   "source": [
    "undersampled_df['toxicity'].value_counts()"
   ]
  },
  {
   "cell_type": "code",
   "execution_count": 51,
   "metadata": {},
   "outputs": [
    {
     "data": {
      "text/plain": [
       "emotion\n",
       "anger       657\n",
       "disgust     491\n",
       "happy       243\n",
       "sad         182\n",
       "neutral     173\n",
       "surprise     53\n",
       "Name: count, dtype: int64"
      ]
     },
     "execution_count": 51,
     "metadata": {},
     "output_type": "execute_result"
    }
   ],
   "source": [
    "undersampled_df['emotion'].value_counts()"
   ]
  },
  {
   "cell_type": "code",
   "execution_count": 52,
   "metadata": {},
   "outputs": [],
   "source": [
    "undersampled_df = undersampled_df.sample(frac=1)"
   ]
  },
  {
   "cell_type": "code",
   "execution_count": 53,
   "metadata": {},
   "outputs": [],
   "source": [
    "undersampled_df= undersampled_df.reset_index(drop=True)"
   ]
  },
  {
   "cell_type": "code",
   "execution_count": 54,
   "metadata": {},
   "outputs": [],
   "source": [
    "undersampled_df.to_pickle('../dataset/preprocessed_df_combined.pkl')"
   ]
  },
  {
   "cell_type": "code",
   "execution_count": 55,
   "metadata": {},
   "outputs": [
    {
     "data": {
      "text/html": [
       "<div>\n",
       "<style scoped>\n",
       "    .dataframe tbody tr th:only-of-type {\n",
       "        vertical-align: middle;\n",
       "    }\n",
       "\n",
       "    .dataframe tbody tr th {\n",
       "        vertical-align: top;\n",
       "    }\n",
       "\n",
       "    .dataframe thead th {\n",
       "        text-align: right;\n",
       "    }\n",
       "</style>\n",
       "<table border=\"1\" class=\"dataframe\">\n",
       "  <thead>\n",
       "    <tr style=\"text-align: right;\">\n",
       "      <th></th>\n",
       "      <th>username</th>\n",
       "      <th>chat</th>\n",
       "      <th>emotion</th>\n",
       "      <th>toxicity</th>\n",
       "    </tr>\n",
       "  </thead>\n",
       "  <tbody>\n",
       "    <tr>\n",
       "      <th>0</th>\n",
       "      <td>NON #TAE</td>\n",
       "      <td>n*gga</td>\n",
       "      <td>anger</td>\n",
       "      <td>multiple discrimination</td>\n",
       "    </tr>\n",
       "    <tr>\n",
       "      <th>1</th>\n",
       "      <td>bbkakai #catto</td>\n",
       "      <td>comeback pa</td>\n",
       "      <td>disgust</td>\n",
       "      <td>sarcasm</td>\n",
       "    </tr>\n",
       "    <tr>\n",
       "      <th>2</th>\n",
       "      <td>haru#riee</td>\n",
       "      <td>go quit</td>\n",
       "      <td>anger</td>\n",
       "      <td>gamesplaining</td>\n",
       "    </tr>\n",
       "    <tr>\n",
       "      <th>3</th>\n",
       "      <td>Jape</td>\n",
       "      <td>HANGAL</td>\n",
       "      <td>anger</td>\n",
       "      <td>cyberbullying</td>\n",
       "    </tr>\n",
       "    <tr>\n",
       "      <th>4</th>\n",
       "      <td>ylysah#mer</td>\n",
       "      <td>boosted</td>\n",
       "      <td>disgust</td>\n",
       "      <td>gameplay experience complaints</td>\n",
       "    </tr>\n",
       "    <tr>\n",
       "      <th>...</th>\n",
       "      <td>...</td>\n",
       "      <td>...</td>\n",
       "      <td>...</td>\n",
       "      <td>...</td>\n",
       "    </tr>\n",
       "    <tr>\n",
       "      <th>1794</th>\n",
       "      <td>CHRONOS #MICHY</td>\n",
       "      <td>Kaya pa yan</td>\n",
       "      <td>happy</td>\n",
       "      <td>not toxic</td>\n",
       "    </tr>\n",
       "    <tr>\n",
       "      <th>1795</th>\n",
       "      <td>neverland</td>\n",
       "      <td>sana ikaw nagtanim</td>\n",
       "      <td>anger</td>\n",
       "      <td>sarcasm</td>\n",
       "    </tr>\n",
       "    <tr>\n",
       "      <th>1796</th>\n",
       "      <td>Fry #Bait</td>\n",
       "      <td>pabigat ka</td>\n",
       "      <td>disgust</td>\n",
       "      <td>gameplay experience complaints</td>\n",
       "    </tr>\n",
       "    <tr>\n",
       "      <th>1797</th>\n",
       "      <td>Crescht #blom</td>\n",
       "      <td>gg!</td>\n",
       "      <td>sad</td>\n",
       "      <td>sarcasm</td>\n",
       "    </tr>\n",
       "    <tr>\n",
       "      <th>1798</th>\n",
       "      <td>0</td>\n",
       "      <td>gg ez</td>\n",
       "      <td>disgust</td>\n",
       "      <td>sarcasm</td>\n",
       "    </tr>\n",
       "  </tbody>\n",
       "</table>\n",
       "<p>1799 rows × 4 columns</p>\n",
       "</div>"
      ],
      "text/plain": [
       "            username                chat  emotion  \\\n",
       "0           NON #TAE               n*gga    anger   \n",
       "1     bbkakai #catto         comeback pa  disgust   \n",
       "2          haru#riee             go quit    anger   \n",
       "3               Jape              HANGAL    anger   \n",
       "4         ylysah#mer             boosted  disgust   \n",
       "...              ...                 ...      ...   \n",
       "1794  CHRONOS #MICHY         Kaya pa yan    happy   \n",
       "1795       neverland  sana ikaw nagtanim    anger   \n",
       "1796       Fry #Bait          pabigat ka  disgust   \n",
       "1797   Crescht #blom                 gg!      sad   \n",
       "1798               0               gg ez  disgust   \n",
       "\n",
       "                            toxicity  \n",
       "0            multiple discrimination  \n",
       "1                            sarcasm  \n",
       "2                      gamesplaining  \n",
       "3                      cyberbullying  \n",
       "4     gameplay experience complaints  \n",
       "...                              ...  \n",
       "1794                       not toxic  \n",
       "1795                         sarcasm  \n",
       "1796  gameplay experience complaints  \n",
       "1797                         sarcasm  \n",
       "1798                         sarcasm  \n",
       "\n",
       "[1799 rows x 4 columns]"
      ]
     },
     "execution_count": 55,
     "metadata": {},
     "output_type": "execute_result"
    }
   ],
   "source": [
    "undersampled_df"
   ]
  },
  {
   "cell_type": "code",
   "execution_count": 57,
   "metadata": {},
   "outputs": [
    {
     "data": {
      "text/plain": [
       "1"
      ]
     },
     "execution_count": 57,
     "metadata": {},
     "output_type": "execute_result"
    }
   ],
   "source": [
    "undersampled_df['chat'].str.len().min()"
   ]
  },
  {
   "cell_type": "code",
   "execution_count": 60,
   "metadata": {},
   "outputs": [],
   "source": [
    "# toxicity\n",
    "def oversample(df):\n",
    "    classes = df.toxicity.value_counts().to_dict()\n",
    "    most = max(classes.values())\n",
    "    classes_list = []\n",
    "    for key in classes:\n",
    "        classes_list.append(df[df['toxicity'] == key]) \n",
    "    classes_sample = []\n",
    "    for i in range(1,len(classes_list)):\n",
    "        classes_sample.append(classes_list[i].sample(most, replace=True))\n",
    "    df_maybe = pd.concat(classes_sample)\n",
    "    final_df = pd.concat([df_maybe,classes_list[0]], axis=0)\n",
    "    final_df = final_df.reset_index(drop=True)\n",
    "    return final_df"
   ]
  },
  {
   "cell_type": "code",
   "execution_count": 61,
   "metadata": {},
   "outputs": [],
   "source": [
    "oversampled_df = oversample(combined_df)"
   ]
  },
  {
   "cell_type": "code",
   "execution_count": 62,
   "metadata": {},
   "outputs": [
    {
     "name": "stdout",
     "output_type": "stream",
     "text": [
      "<class 'pandas.core.frame.DataFrame'>\n",
      "RangeIndex: 21693 entries, 0 to 21692\n",
      "Data columns (total 4 columns):\n",
      " #   Column    Non-Null Count  Dtype \n",
      "---  ------    --------------  ----- \n",
      " 0   username  21684 non-null  object\n",
      " 1   chat      21693 non-null  object\n",
      " 2   emotion   21693 non-null  object\n",
      " 3   toxicity  21693 non-null  object\n",
      "dtypes: object(4)\n",
      "memory usage: 678.0+ KB\n"
     ]
    }
   ],
   "source": [
    "oversampled_df.info()"
   ]
  },
  {
   "cell_type": "code",
   "execution_count": 63,
   "metadata": {},
   "outputs": [
    {
     "data": {
      "text/plain": [
       "emotion\n",
       "anger       7792\n",
       "disgust     6104\n",
       "happy       2943\n",
       "sad         2111\n",
       "neutral     2035\n",
       "surprise     708\n",
       "Name: count, dtype: int64"
      ]
     },
     "execution_count": 63,
     "metadata": {},
     "output_type": "execute_result"
    }
   ],
   "source": [
    "oversampled_df['emotion'].value_counts()"
   ]
  },
  {
   "cell_type": "code",
   "execution_count": 64,
   "metadata": {},
   "outputs": [],
   "source": [
    "# emotion\n",
    "def undersample(df):\n",
    "    classes = df.emotion.value_counts().to_dict()\n",
    "    least_class_amount = min(classes.values())\n",
    "    classes_list = []\n",
    "    for key in classes:\n",
    "        classes_list.append(df[df['emotion'] == key]) \n",
    "    classes_sample = []\n",
    "    for i in range(0,len(classes_list)-1):\n",
    "        classes_sample.append(classes_list[i].sample(least_class_amount))\n",
    "    df_maybe = pd.concat(classes_sample)\n",
    "    final_df = pd.concat([df_maybe,classes_list[-1]], axis=0)\n",
    "    final_df = final_df.reset_index(drop=True)\n",
    "    return final_df"
   ]
  },
  {
   "cell_type": "code",
   "execution_count": 65,
   "metadata": {},
   "outputs": [],
   "source": [
    "over_under_sampled_df = undersample(oversampled_df)"
   ]
  },
  {
   "cell_type": "code",
   "execution_count": 66,
   "metadata": {},
   "outputs": [
    {
     "name": "stdout",
     "output_type": "stream",
     "text": [
      "<class 'pandas.core.frame.DataFrame'>\n",
      "RangeIndex: 4248 entries, 0 to 4247\n",
      "Data columns (total 4 columns):\n",
      " #   Column    Non-Null Count  Dtype \n",
      "---  ------    --------------  ----- \n",
      " 0   username  4247 non-null   object\n",
      " 1   chat      4248 non-null   object\n",
      " 2   emotion   4248 non-null   object\n",
      " 3   toxicity  4248 non-null   object\n",
      "dtypes: object(4)\n",
      "memory usage: 132.9+ KB\n"
     ]
    }
   ],
   "source": [
    "over_under_sampled_df.info()"
   ]
  },
  {
   "cell_type": "code",
   "execution_count": 70,
   "metadata": {},
   "outputs": [
    {
     "data": {
      "text/plain": [
       "emotion\n",
       "anger       708\n",
       "disgust     708\n",
       "happy       708\n",
       "sad         708\n",
       "neutral     708\n",
       "surprise    708\n",
       "Name: count, dtype: int64"
      ]
     },
     "execution_count": 70,
     "metadata": {},
     "output_type": "execute_result"
    }
   ],
   "source": [
    "over_under_sampled_df['emotion'].value_counts()"
   ]
  },
  {
   "cell_type": "code",
   "execution_count": 76,
   "metadata": {},
   "outputs": [
    {
     "data": {
      "text/plain": [
       "toxicity\n",
       "not toxic                         973\n",
       "sarcasm                           868\n",
       "gameplay experience complaints    570\n",
       "blaming others                    543\n",
       "multiple discrimination           457\n",
       "cyberbullying                     452\n",
       "gamesplaining                     385\n",
       "Name: count, dtype: int64"
      ]
     },
     "execution_count": 76,
     "metadata": {},
     "output_type": "execute_result"
    }
   ],
   "source": [
    "over_under_sampled_df['toxicity'].value_counts()"
   ]
  },
  {
   "cell_type": "code",
   "execution_count": 78,
   "metadata": {},
   "outputs": [
    {
     "data": {
      "image/png": "[encoded data removed]",
      "text/plain": [
       "<Figure size 1000x500 with 2 Axes>"
      ]
     },
     "metadata": {},
     "output_type": "display_data"
    }
   ],
   "source": [
    "fig = plt.figure(figsize=(10,5))\n",
    "# Value counts of toxicity\n",
    "ax1 = fig.add_subplot(1,2,1)\n",
    "ax1.set_title('Toxicity')\n",
    "ax1.set_xlabel('Toxicity')\n",
    "ax1.set_ylabel('Number of chats')\n",
    "over_under_sampled_df['toxicity'].value_counts().plot(kind='bar')\n",
    "\n",
    "\n",
    "ax2 = fig.add_subplot(1,2,2)\n",
    "ax2.set_title('Emotion')\n",
    "ax2.set_xlabel('Emotion')\n",
    "ax2.set_ylabel('Number of chats')\n",
    "over_under_sampled_df['emotion'].value_counts().plot(kind='bar')\n",
    "\n",
    "plt.show()\n"
   ]
  },
  {
   "cell_type": "code",
   "execution_count": 77,
   "metadata": {},
   "outputs": [],
   "source": [
    "over_under_sampled_df = over_under_sampled_df.sample(frac=1)\n",
    "over_under_sampled_df= over_under_sampled_df.reset_index(drop=True)"
   ]
  },
  {
   "cell_type": "code",
   "execution_count": 74,
   "metadata": {},
   "outputs": [],
   "source": [
    "over_under_sampled_df.to_pickle('../dataset/preprocessed_df_combined.pkl')"
   ]
  }
 ],
 "metadata": {
  "kernelspec": {
   "display_name": ".venv",
   "language": "python",
   "name": "python3"
  },
  "language_info": {
   "codemirror_mode": {
    "name": "ipython",
    "version": 3
   },
   "file_extension": ".py",
   "mimetype": "text/x-python",
   "name": "python",
   "nbconvert_exporter": "python",
   "pygments_lexer": "ipython3",
   "version": "3.9.2"
  },
  "orig_nbformat": 4
 },
 "nbformat": 4,
 "nbformat_minor": 2
}
